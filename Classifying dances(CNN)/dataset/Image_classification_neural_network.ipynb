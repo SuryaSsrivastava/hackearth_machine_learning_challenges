{
 "cells": [
  {
   "cell_type": "markdown",
   "metadata": {},
   "source": [
    "### Importing libraries"
   ]
  },
  {
   "cell_type": "code",
   "execution_count": 403,
   "metadata": {},
   "outputs": [],
   "source": [
    "import pandas as pd\n",
    "import numpy as np\n",
    "import matplotlib.pyplot as plt\n",
    "import io\n",
    "from keras.models import Sequential\n",
    "from keras.layers import Conv2D,MaxPooling2D,Dense,Flatten,Dropout\n",
    "from keras.optimizers import Adam\n",
    "from keras.callbacks import TensorBoard\n",
    "from keras.preprocessing import image\n",
    "import keras\n",
    "from keras.utils import np_utils\n",
    "from sklearn.preprocessing import LabelEncoder\n",
    "import os\n",
    "from sklearn.model_selection import train_test_split\n",
    "from keras.preprocessing.image import ImageDataGenerator"
   ]
  },
  {
   "cell_type": "code",
   "execution_count": 404,
   "metadata": {},
   "outputs": [],
   "source": [
    "df_train=pd.read_csv(\"./train.csv\")"
   ]
  },
  {
   "cell_type": "code",
   "execution_count": 405,
   "metadata": {},
   "outputs": [
    {
     "data": {
      "text/html": [
       "<div>\n",
       "<style scoped>\n",
       "    .dataframe tbody tr th:only-of-type {\n",
       "        vertical-align: middle;\n",
       "    }\n",
       "\n",
       "    .dataframe tbody tr th {\n",
       "        vertical-align: top;\n",
       "    }\n",
       "\n",
       "    .dataframe thead th {\n",
       "        text-align: right;\n",
       "    }\n",
       "</style>\n",
       "<table border=\"1\" class=\"dataframe\">\n",
       "  <thead>\n",
       "    <tr style=\"text-align: right;\">\n",
       "      <th></th>\n",
       "      <th>Image</th>\n",
       "      <th>target</th>\n",
       "    </tr>\n",
       "  </thead>\n",
       "  <tbody>\n",
       "    <tr>\n",
       "      <th>0</th>\n",
       "      <td>96.jpg</td>\n",
       "      <td>manipuri</td>\n",
       "    </tr>\n",
       "    <tr>\n",
       "      <th>1</th>\n",
       "      <td>163.jpg</td>\n",
       "      <td>bharatanatyam</td>\n",
       "    </tr>\n",
       "    <tr>\n",
       "      <th>2</th>\n",
       "      <td>450.jpg</td>\n",
       "      <td>odissi</td>\n",
       "    </tr>\n",
       "    <tr>\n",
       "      <th>3</th>\n",
       "      <td>219.jpg</td>\n",
       "      <td>kathakali</td>\n",
       "    </tr>\n",
       "    <tr>\n",
       "      <th>4</th>\n",
       "      <td>455.jpg</td>\n",
       "      <td>odissi</td>\n",
       "    </tr>\n",
       "  </tbody>\n",
       "</table>\n",
       "</div>"
      ],
      "text/plain": [
       "     Image         target\n",
       "0   96.jpg       manipuri\n",
       "1  163.jpg  bharatanatyam\n",
       "2  450.jpg         odissi\n",
       "3  219.jpg      kathakali\n",
       "4  455.jpg         odissi"
      ]
     },
     "execution_count": 405,
     "metadata": {},
     "output_type": "execute_result"
    }
   ],
   "source": [
    "df_train.head()"
   ]
  },
  {
   "cell_type": "code",
   "execution_count": 406,
   "metadata": {},
   "outputs": [],
   "source": [
    "df_test=pd.read_csv(\"./test.csv\")"
   ]
  },
  {
   "cell_type": "code",
   "execution_count": 407,
   "metadata": {},
   "outputs": [
    {
     "data": {
      "text/html": [
       "<div>\n",
       "<style scoped>\n",
       "    .dataframe tbody tr th:only-of-type {\n",
       "        vertical-align: middle;\n",
       "    }\n",
       "\n",
       "    .dataframe tbody tr th {\n",
       "        vertical-align: top;\n",
       "    }\n",
       "\n",
       "    .dataframe thead th {\n",
       "        text-align: right;\n",
       "    }\n",
       "</style>\n",
       "<table border=\"1\" class=\"dataframe\">\n",
       "  <thead>\n",
       "    <tr style=\"text-align: right;\">\n",
       "      <th></th>\n",
       "      <th>Image</th>\n",
       "    </tr>\n",
       "  </thead>\n",
       "  <tbody>\n",
       "    <tr>\n",
       "      <th>0</th>\n",
       "      <td>508.jpg</td>\n",
       "    </tr>\n",
       "    <tr>\n",
       "      <th>1</th>\n",
       "      <td>246.jpg</td>\n",
       "    </tr>\n",
       "    <tr>\n",
       "      <th>2</th>\n",
       "      <td>473.jpg</td>\n",
       "    </tr>\n",
       "    <tr>\n",
       "      <th>3</th>\n",
       "      <td>485.jpg</td>\n",
       "    </tr>\n",
       "    <tr>\n",
       "      <th>4</th>\n",
       "      <td>128.jpg</td>\n",
       "    </tr>\n",
       "  </tbody>\n",
       "</table>\n",
       "</div>"
      ],
      "text/plain": [
       "     Image\n",
       "0  508.jpg\n",
       "1  246.jpg\n",
       "2  473.jpg\n",
       "3  485.jpg\n",
       "4  128.jpg"
      ]
     },
     "execution_count": 407,
     "metadata": {},
     "output_type": "execute_result"
    }
   ],
   "source": [
    "df_test.head()"
   ]
  },
  {
   "cell_type": "code",
   "execution_count": 408,
   "metadata": {},
   "outputs": [
    {
     "data": {
      "text/plain": [
       "<matplotlib.image.AxesImage at 0x1faf5796ac8>"
      ]
     },
     "execution_count": 408,
     "metadata": {},
     "output_type": "execute_result"
    },
    {
     "data": {
      "image/png": "[encoded data removed]",
      "text/plain": [
       "<Figure size 576x504 with 1 Axes>"
      ]
     },
     "metadata": {},
     "output_type": "display_data"
    }
   ],
   "source": [
    "imag=os.listdir(\"train/\")\n",
    "img=image.load_img(os.path.join(\"train/\",imag[0]))\n",
    "x=image.img_to_array(img)/255.0\n",
    "plt.imshow(x)"
   ]
  },
  {
   "cell_type": "code",
   "execution_count": 409,
   "metadata": {},
   "outputs": [],
   "source": [
    "image_data={}\n",
    "for path in os.listdir('train/'):\n",
    "    img=os.path.join(\"train/\",path)\n",
    "    img=image.load_img(img,target_size=(100,100))\n",
    "    img_arr=image.img_to_array(img)/255.0\n",
    "    image_data[path]=img_arr"
   ]
  },
  {
   "cell_type": "code",
   "execution_count": 410,
   "metadata": {},
   "outputs": [],
   "source": [
    "image_data_test=[]\n",
    "labels_test=[]\n",
    "for path in os.listdir('test/'):\n",
    "    img=os.path.join(\"test/\",path)\n",
    "    img=image.load_img(img,target_size=(100,100))\n",
    "    img_arr=image.img_to_array(img)/255.0\n",
    "    image_data_test.append(img_arr)\n",
    "    labels_test.append(path)"
   ]
  },
  {
   "cell_type": "code",
   "execution_count": 411,
   "metadata": {},
   "outputs": [],
   "source": [
    "data_test_dict={}\n",
    "for i in range(len(labels_test)):\n",
    "    data_test_dict[labels_test[i]]=image_data_test[i]"
   ]
  },
  {
   "cell_type": "code",
   "execution_count": 412,
   "metadata": {},
   "outputs": [],
   "source": [
    "df_test_id=df_test['Image']"
   ]
  },
  {
   "cell_type": "code",
   "execution_count": 413,
   "metadata": {},
   "outputs": [],
   "source": [
    "X_test=[]\n",
    "for i in range(df_test_id.shape[0]):\n",
    "    X_test.append(data_test_dict[df_test_id[i]])"
   ]
  },
  {
   "cell_type": "code",
   "execution_count": 414,
   "metadata": {},
   "outputs": [
    {
     "data": {
      "text/plain": [
       "<matplotlib.image.AxesImage at 0x1fafb40bb88>"
      ]
     },
     "execution_count": 414,
     "metadata": {},
     "output_type": "execute_result"
    },
    {
     "data": {
      "image/png": "[encoded data removed]",
      "text/plain": [
       "<Figure size 576x504 with 1 Axes>"
      ]
     },
     "metadata": {},
     "output_type": "display_data"
    }
   ],
   "source": [
    "plt.imshow(X_test[1])"
   ]
  },
  {
   "cell_type": "code",
   "execution_count": 415,
   "metadata": {},
   "outputs": [
    {
     "name": "stdout",
     "output_type": "stream",
     "text": [
      "(156, 100, 100, 3)\n"
     ]
    }
   ],
   "source": [
    "X_test=np.array(X_test)\n",
    "print(X_test.shape)"
   ]
  },
  {
   "cell_type": "code",
   "execution_count": 416,
   "metadata": {
    "scrolled": false
   },
   "outputs": [
    {
     "data": {
      "text/plain": [
       "<matplotlib.image.AxesImage at 0x1faf2634748>"
      ]
     },
     "execution_count": 416,
     "metadata": {},
     "output_type": "execute_result"
    },
    {
     "data": {
      "image/png": "[encoded data removed]",
      "text/plain": [
       "<Figure size 576x504 with 1 Axes>"
      ]
     },
     "metadata": {},
     "output_type": "display_data"
    }
   ],
   "source": [
    "plt.imshow(X_test[0])"
   ]
  },
  {
   "cell_type": "code",
   "execution_count": 417,
   "metadata": {},
   "outputs": [],
   "source": [
    "df_image_id=df_train['Image']\n",
    "Y_train=df_train['target']"
   ]
  },
  {
   "cell_type": "code",
   "execution_count": 418,
   "metadata": {},
   "outputs": [],
   "source": [
    "X_train=[]\n",
    "for i in range(df_image_id.shape[0]):\n",
    "    X_train.append(image_data[df_image_id[i]])\n",
    "X_train=np.array(X_train)"
   ]
  },
  {
   "cell_type": "code",
   "execution_count": 419,
   "metadata": {},
   "outputs": [
    {
     "data": {
      "text/plain": [
       "(364, 100, 100, 3)"
      ]
     },
     "execution_count": 419,
     "metadata": {},
     "output_type": "execute_result"
    }
   ],
   "source": [
    "X_train.shape"
   ]
  },
  {
   "cell_type": "code",
   "execution_count": 420,
   "metadata": {},
   "outputs": [],
   "source": [
    "le=LabelEncoder()"
   ]
  },
  {
   "cell_type": "code",
   "execution_count": 421,
   "metadata": {},
   "outputs": [],
   "source": [
    "Y_train=le.fit_transform(np.array(Y_train))\n",
    "Y_train=np_utils.to_categorical(Y_train)"
   ]
  },
  {
   "cell_type": "code",
   "execution_count": 422,
   "metadata": {},
   "outputs": [
    {
     "data": {
      "text/plain": [
       "array(['bharatanatyam', 'kathak', 'kathakali', 'kuchipudi', 'manipuri',\n",
       "       'mohiniyattam', 'odissi', 'sattriya'], dtype=object)"
      ]
     },
     "execution_count": 422,
     "metadata": {},
     "output_type": "execute_result"
    }
   ],
   "source": [
    "le.classes_"
   ]
  },
  {
   "cell_type": "code",
   "execution_count": 423,
   "metadata": {},
   "outputs": [
    {
     "name": "stdout",
     "output_type": "stream",
     "text": [
      "[0. 0. 1. 0. 0. 0. 0. 0.]\n"
     ]
    },
    {
     "data": {
      "text/plain": [
       "<matplotlib.image.AxesImage at 0x1faf264e708>"
      ]
     },
     "execution_count": 423,
     "metadata": {},
     "output_type": "execute_result"
    },
    {
     "data": {
      "image/png": "[encoded data removed]",
      "text/plain": [
       "<Figure size 576x504 with 1 Axes>"
      ]
     },
     "metadata": {},
     "output_type": "display_data"
    }
   ],
   "source": [
    "print(Y_train[3])\n",
    "plt.imshow(X_train[3])"
   ]
  },
  {
   "cell_type": "code",
   "execution_count": 424,
   "metadata": {},
   "outputs": [],
   "source": [
    "X_train,X_val,Y_train,Y_val=train_test_split(X_train,Y_train,test_size=0.25)"
   ]
  },
  {
   "cell_type": "code",
   "execution_count": 84,
   "metadata": {},
   "outputs": [],
   "source": [
    "# cnn_model=Sequential()\n",
    "# cnn_model.add(Conv2D(filters=32,kernel_size=(3,3),activation='relu',input_shape=(100,100,3)))\n",
    "# cnn_model.add(Conv2D(filters=32,kernel_size=(3,3),activation='relu'))\n",
    "# cnn_model.add(MaxPooling2D(2,2))\n",
    "# cnn_model.add(Dropout(0.3))\n",
    "\n",
    "# cnn_model.add(Conv2D(filters=64,kernel_size=(3,3),activation='relu'))\n",
    "# cnn_model.add(Conv2D(filters=64,kernel_size=(3,3),activation='relu'))\n",
    "# cnn_model.add(MaxPooling2D(2,2))\n",
    "# cnn_model.add(Dropout(0.3))\n",
    "\n",
    "# cnn_model.add(Conv2D(filters=128,kernel_size=(5,5),activation='relu'))\n",
    "# cnn_model.add(Conv2D(filters=128,kernel_size=(5,5),activation='relu'))\n",
    "# cnn_model.add(MaxPooling2D(2,2))\n",
    "# cnn_model.add(Dropout(0.4))\n",
    "\n",
    "# cnn_model.add(Flatten())\n",
    "\n",
    "# cnn_model.add(Dense(units=512,activation='relu'))\n",
    "\n",
    "# cnn_model.add(Dense(units=512,activation='relu'))\n",
    "\n",
    "# cnn_model.add(Dense(units=len(Y_train[0]),activation='softmax'))\n",
    "\n",
    "# cnn_model.summary()"
   ]
  },
  {
   "cell_type": "code",
   "execution_count": 369,
   "metadata": {},
   "outputs": [],
   "source": [
    "from keras.models import load_model"
   ]
  },
  {
   "cell_type": "code",
   "execution_count": 370,
   "metadata": {},
   "outputs": [],
   "source": [
    "cnn_model=load_model(\"./saved_models/worst_model.h5\")"
   ]
  },
  {
   "cell_type": "code",
   "execution_count": 371,
   "metadata": {},
   "outputs": [],
   "source": [
    "cnn_model.load_weights('./saved_models/worst_model.h5')"
   ]
  },
  {
   "cell_type": "code",
   "execution_count": 372,
   "metadata": {},
   "outputs": [
    {
     "name": "stdout",
     "output_type": "stream",
     "text": [
      "Model: \"sequential_1\"\n",
      "_________________________________________________________________\n",
      "Layer (type)                 Output Shape              Param #   \n",
      "=================================================================\n",
      "conv2d_1 (Conv2D)            (None, 98, 98, 32)        896       \n",
      "_________________________________________________________________\n",
      "conv2d_2 (Conv2D)            (None, 96, 96, 32)        9248      \n",
      "_________________________________________________________________\n",
      "max_pooling2d_1 (MaxPooling2 (None, 48, 48, 32)        0         \n",
      "_________________________________________________________________\n",
      "dropout_1 (Dropout)          (None, 48, 48, 32)        0         \n",
      "_________________________________________________________________\n",
      "conv2d_3 (Conv2D)            (None, 46, 46, 64)        18496     \n",
      "_________________________________________________________________\n",
      "conv2d_4 (Conv2D)            (None, 44, 44, 64)        36928     \n",
      "_________________________________________________________________\n",
      "max_pooling2d_2 (MaxPooling2 (None, 22, 22, 64)        0         \n",
      "_________________________________________________________________\n",
      "dropout_2 (Dropout)          (None, 22, 22, 64)        0         \n",
      "_________________________________________________________________\n",
      "conv2d_5 (Conv2D)            (None, 18, 18, 128)       204928    \n",
      "_________________________________________________________________\n",
      "conv2d_6 (Conv2D)            (None, 14, 14, 128)       409728    \n",
      "_________________________________________________________________\n",
      "max_pooling2d_3 (MaxPooling2 (None, 7, 7, 128)         0         \n",
      "_________________________________________________________________\n",
      "dropout_3 (Dropout)          (None, 7, 7, 128)         0         \n",
      "_________________________________________________________________\n",
      "flatten_1 (Flatten)          (None, 6272)              0         \n",
      "_________________________________________________________________\n",
      "dense_1 (Dense)              (None, 512)               3211776   \n",
      "_________________________________________________________________\n",
      "dense_2 (Dense)              (None, 512)               262656    \n",
      "_________________________________________________________________\n",
      "dense_3 (Dense)              (None, 8)                 4104      \n",
      "=================================================================\n",
      "Total params: 4,158,760\n",
      "Trainable params: 4,158,760\n",
      "Non-trainable params: 0\n",
      "_________________________________________________________________\n"
     ]
    }
   ],
   "source": [
    "cnn_model.summary()"
   ]
  },
  {
   "cell_type": "code",
   "execution_count": 373,
   "metadata": {},
   "outputs": [],
   "source": [
    "cnn_model.compile(loss='categorical_crossentropy',optimizer=keras.optimizers.rmsprop(lr=0.0003),metrics=['accuracy'])"
   ]
  },
  {
   "cell_type": "code",
   "execution_count": 374,
   "metadata": {},
   "outputs": [
    {
     "name": "stdout",
     "output_type": "stream",
     "text": [
      "Train on 273 samples, validate on 91 samples\n",
      "Epoch 1/5\n",
      "273/273 [==============================] - 11s 41ms/step - loss: 0.8600 - accuracy: 0.8571 - val_loss: 0.6023 - val_accuracy: 0.8681\n",
      "Epoch 2/5\n",
      "273/273 [==============================] - 11s 41ms/step - loss: 0.3945 - accuracy: 0.8901 - val_loss: 0.6421 - val_accuracy: 0.9011\n",
      "Epoch 3/5\n",
      "273/273 [==============================] - 11s 41ms/step - loss: 0.2164 - accuracy: 0.9414 - val_loss: 0.5639 - val_accuracy: 0.9121\n",
      "Epoch 4/5\n",
      "273/273 [==============================] - 11s 42ms/step - loss: 0.1187 - accuracy: 0.9707 - val_loss: 0.6683 - val_accuracy: 0.9121\n",
      "Epoch 5/5\n",
      "273/273 [==============================] - 12s 43ms/step - loss: 0.0489 - accuracy: 0.9817 - val_loss: 0.8158 - val_accuracy: 0.9011\n"
     ]
    }
   ],
   "source": [
    "history=cnn_model.fit(X_train,Y_train,epochs=5,shuffle=True,batch_size=32,validation_data=(X_val,Y_val))"
   ]
  },
  {
   "cell_type": "code",
   "execution_count": null,
   "metadata": {},
   "outputs": [],
   "source": []
  },
  {
   "cell_type": "code",
   "execution_count": 375,
   "metadata": {},
   "outputs": [
    {
     "data": {
      "text/plain": [
       "<matplotlib.legend.Legend at 0x1fac0c43dc8>"
      ]
     },
     "execution_count": 375,
     "metadata": {},
     "output_type": "execute_result"
    },
    {
     "data": {
      "image/png": "[encoded data removed]",
      "text/plain": [
       "<Figure size 576x504 with 1 Axes>"
      ]
     },
     "metadata": {},
     "output_type": "display_data"
    }
   ],
   "source": [
    "\n",
    "plt.plot(history.history['loss'],'g',label='loss')\n",
    "plt.plot(history.history['val_loss'],'b',label='validation loss')\n",
    "\n",
    "plt.plot(history.history['accuracy'],'r',label='accuracy')\n",
    "plt.plot(history.history['val_accuracy'],'b',label='validation accuracy')\n",
    "plt.legend()"
   ]
  },
  {
   "cell_type": "code",
   "execution_count": 376,
   "metadata": {},
   "outputs": [],
   "source": [
    "predict=cnn_model.predict_classes(X_test)"
   ]
  },
  {
   "cell_type": "code",
   "execution_count": 377,
   "metadata": {},
   "outputs": [],
   "source": [
    "predict=le.inverse_transform(predict)"
   ]
  },
  {
   "cell_type": "code",
   "execution_count": 378,
   "metadata": {},
   "outputs": [],
   "source": [
    "worst_model=pd.DataFrame({'Image':df_test_id,'target':predict})\n",
    "worst_model.to_csv(\"worst_model.csv\",index=False)"
   ]
  },
  {
   "cell_type": "markdown",
   "metadata": {},
   "source": [
    "### saving the model"
   ]
  },
  {
   "cell_type": "code",
   "execution_count": 48,
   "metadata": {},
   "outputs": [],
   "source": [
    "directory=os.path.join(os.getcwd(),'saved_models')\n",
    "if not os.path.isdir(directory):\n",
    "    os.makedirs(directory)\n",
    "model_path=os.path.join(directory,'worst_model.h5')\n",
    "cnn_model.save(model_path)"
   ]
  },
  {
   "cell_type": "markdown",
   "metadata": {},
   "source": [
    "### using data Augmentation"
   ]
  },
  {
   "cell_type": "code",
   "execution_count": 117,
   "metadata": {},
   "outputs": [],
   "source": [
    "datagen=ImageDataGenerator(\n",
    "    rotation_range=90,\n",
    "    width_shift_range=0.2,\n",
    "    horizontal_flip=True,\n",
    "    vertical_flip=True,\n",
    "                            )"
   ]
  },
  {
   "cell_type": "code",
   "execution_count": 51,
   "metadata": {},
   "outputs": [],
   "source": [
    "datagen.fit(X_train)"
   ]
  },
  {
   "cell_type": "code",
   "execution_count": null,
   "metadata": {},
   "outputs": [],
   "source": [
    "cnn_model.fit_generator(datagen.flow(X_train,Y_train,batch_size=32),epochs=45)"
   ]
  },
  {
   "cell_type": "code",
   "execution_count": 58,
   "metadata": {},
   "outputs": [],
   "source": [
    "predict=cnn_model.predict_classes(X_test)"
   ]
  },
  {
   "cell_type": "code",
   "execution_count": 59,
   "metadata": {},
   "outputs": [],
   "source": [
    "predict=le.inverse_transform(predict)"
   ]
  },
  {
   "cell_type": "code",
   "execution_count": 60,
   "metadata": {},
   "outputs": [],
   "source": [
    "aug_model=pd.DataFrame({'Image':df_test_id,'target':predict})\n",
    "aug_model.to_csv(\"aug_model.csv\",index=False)"
   ]
  },
  {
   "cell_type": "code",
   "execution_count": 61,
   "metadata": {},
   "outputs": [],
   "source": [
    "directory=os.path.join(os.getcwd(),'saved_models')\n",
    "if not os.path.isdir(directory):\n",
    "    os.makedirs(directory)\n",
    "model_path=os.path.join(directory,'augmented_model.h5')\n",
    "cnn_model.save(model_path)"
   ]
  },
  {
   "cell_type": "markdown",
   "metadata": {},
   "source": [
    "### Resnet Model"
   ]
  },
  {
   "cell_type": "code",
   "execution_count": 425,
   "metadata": {},
   "outputs": [],
   "source": [
    "from keras.applications.resnet50 import ResNet50\n",
    "from keras.optimizers import Adam\n",
    "from keras.layers import *\n",
    "from keras.models import Model"
   ]
  },
  {
   "cell_type": "markdown",
   "metadata": {},
   "source": [
    "### Transfer learning using pretrained weights"
   ]
  },
  {
   "cell_type": "code",
   "execution_count": 433,
   "metadata": {},
   "outputs": [],
   "source": [
    "model=ResNet50(weights='imagenet',include_top=False,input_shape=(100,100,3))"
   ]
  },
  {
   "cell_type": "code",
   "execution_count": 389,
   "metadata": {},
   "outputs": [],
   "source": [
    "# y = model.output\n",
    "# y = Flatten()(y)\n",
    "# y = Dropout(0.5)(y)\n",
    "# y = Dense(8, activation='softmax')(y)\n",
    "# new_model = Model(inputs=model.input, outputs=y)\n",
    "# new_model.summary()"
   ]
  },
  {
   "cell_type": "code",
   "execution_count": 434,
   "metadata": {},
   "outputs": [
    {
     "name": "stdout",
     "output_type": "stream",
     "text": [
      "Model: \"model_24\"\n",
      "__________________________________________________________________________________________________\n",
      "Layer (type)                    Output Shape         Param #     Connected to                     \n",
      "==================================================================================================\n",
      "input_21 (InputLayer)           (None, 100, 100, 3)  0                                            \n",
      "__________________________________________________________________________________________________\n",
      "conv1_pad (ZeroPadding2D)       (None, 106, 106, 3)  0           input_21[0][0]                   \n",
      "__________________________________________________________________________________________________\n",
      "conv1 (Conv2D)                  (None, 50, 50, 64)   9472        conv1_pad[0][0]                  \n",
      "__________________________________________________________________________________________________\n",
      "bn_conv1 (BatchNormalization)   (None, 50, 50, 64)   256         conv1[0][0]                      \n",
      "__________________________________________________________________________________________________\n",
      "activation_932 (Activation)     (None, 50, 50, 64)   0           bn_conv1[0][0]                   \n",
      "__________________________________________________________________________________________________\n",
      "pool1_pad (ZeroPadding2D)       (None, 52, 52, 64)   0           activation_932[0][0]             \n",
      "__________________________________________________________________________________________________\n",
      "max_pooling2d_23 (MaxPooling2D) (None, 25, 25, 64)   0           pool1_pad[0][0]                  \n",
      "__________________________________________________________________________________________________\n",
      "res2a_branch2a (Conv2D)         (None, 25, 25, 64)   4160        max_pooling2d_23[0][0]           \n",
      "__________________________________________________________________________________________________\n",
      "bn2a_branch2a (BatchNormalizati (None, 25, 25, 64)   256         res2a_branch2a[0][0]             \n",
      "__________________________________________________________________________________________________\n",
      "activation_933 (Activation)     (None, 25, 25, 64)   0           bn2a_branch2a[0][0]              \n",
      "__________________________________________________________________________________________________\n",
      "res2a_branch2b (Conv2D)         (None, 25, 25, 64)   36928       activation_933[0][0]             \n",
      "__________________________________________________________________________________________________\n",
      "bn2a_branch2b (BatchNormalizati (None, 25, 25, 64)   256         res2a_branch2b[0][0]             \n",
      "__________________________________________________________________________________________________\n",
      "activation_934 (Activation)     (None, 25, 25, 64)   0           bn2a_branch2b[0][0]              \n",
      "__________________________________________________________________________________________________\n",
      "res2a_branch2c (Conv2D)         (None, 25, 25, 256)  16640       activation_934[0][0]             \n",
      "__________________________________________________________________________________________________\n",
      "res2a_branch1 (Conv2D)          (None, 25, 25, 256)  16640       max_pooling2d_23[0][0]           \n",
      "__________________________________________________________________________________________________\n",
      "bn2a_branch2c (BatchNormalizati (None, 25, 25, 256)  1024        res2a_branch2c[0][0]             \n",
      "__________________________________________________________________________________________________\n",
      "bn2a_branch1 (BatchNormalizatio (None, 25, 25, 256)  1024        res2a_branch1[0][0]              \n",
      "__________________________________________________________________________________________________\n",
      "add_305 (Add)                   (None, 25, 25, 256)  0           bn2a_branch2c[0][0]              \n",
      "                                                                 bn2a_branch1[0][0]               \n",
      "__________________________________________________________________________________________________\n",
      "activation_935 (Activation)     (None, 25, 25, 256)  0           add_305[0][0]                    \n",
      "__________________________________________________________________________________________________\n",
      "res2b_branch2a (Conv2D)         (None, 25, 25, 64)   16448       activation_935[0][0]             \n",
      "__________________________________________________________________________________________________\n",
      "bn2b_branch2a (BatchNormalizati (None, 25, 25, 64)   256         res2b_branch2a[0][0]             \n",
      "__________________________________________________________________________________________________\n",
      "activation_936 (Activation)     (None, 25, 25, 64)   0           bn2b_branch2a[0][0]              \n",
      "__________________________________________________________________________________________________\n",
      "res2b_branch2b (Conv2D)         (None, 25, 25, 64)   36928       activation_936[0][0]             \n",
      "__________________________________________________________________________________________________\n",
      "bn2b_branch2b (BatchNormalizati (None, 25, 25, 64)   256         res2b_branch2b[0][0]             \n",
      "__________________________________________________________________________________________________\n",
      "activation_937 (Activation)     (None, 25, 25, 64)   0           bn2b_branch2b[0][0]              \n",
      "__________________________________________________________________________________________________\n",
      "res2b_branch2c (Conv2D)         (None, 25, 25, 256)  16640       activation_937[0][0]             \n",
      "__________________________________________________________________________________________________\n",
      "bn2b_branch2c (BatchNormalizati (None, 25, 25, 256)  1024        res2b_branch2c[0][0]             \n",
      "__________________________________________________________________________________________________\n",
      "add_306 (Add)                   (None, 25, 25, 256)  0           bn2b_branch2c[0][0]              \n",
      "                                                                 activation_935[0][0]             \n",
      "__________________________________________________________________________________________________\n",
      "activation_938 (Activation)     (None, 25, 25, 256)  0           add_306[0][0]                    \n",
      "__________________________________________________________________________________________________\n",
      "res2c_branch2a (Conv2D)         (None, 25, 25, 64)   16448       activation_938[0][0]             \n",
      "__________________________________________________________________________________________________\n",
      "bn2c_branch2a (BatchNormalizati (None, 25, 25, 64)   256         res2c_branch2a[0][0]             \n",
      "__________________________________________________________________________________________________\n",
      "activation_939 (Activation)     (None, 25, 25, 64)   0           bn2c_branch2a[0][0]              \n",
      "__________________________________________________________________________________________________\n",
      "res2c_branch2b (Conv2D)         (None, 25, 25, 64)   36928       activation_939[0][0]             \n",
      "__________________________________________________________________________________________________\n",
      "bn2c_branch2b (BatchNormalizati (None, 25, 25, 64)   256         res2c_branch2b[0][0]             \n",
      "__________________________________________________________________________________________________\n",
      "activation_940 (Activation)     (None, 25, 25, 64)   0           bn2c_branch2b[0][0]              \n",
      "__________________________________________________________________________________________________\n",
      "res2c_branch2c (Conv2D)         (None, 25, 25, 256)  16640       activation_940[0][0]             \n",
      "__________________________________________________________________________________________________\n",
      "bn2c_branch2c (BatchNormalizati (None, 25, 25, 256)  1024        res2c_branch2c[0][0]             \n",
      "__________________________________________________________________________________________________\n",
      "add_307 (Add)                   (None, 25, 25, 256)  0           bn2c_branch2c[0][0]              \n",
      "                                                                 activation_938[0][0]             \n",
      "__________________________________________________________________________________________________\n",
      "activation_941 (Activation)     (None, 25, 25, 256)  0           add_307[0][0]                    \n",
      "__________________________________________________________________________________________________\n",
      "res3a_branch2a (Conv2D)         (None, 13, 13, 128)  32896       activation_941[0][0]             \n",
      "__________________________________________________________________________________________________\n",
      "bn3a_branch2a (BatchNormalizati (None, 13, 13, 128)  512         res3a_branch2a[0][0]             \n",
      "__________________________________________________________________________________________________\n",
      "activation_942 (Activation)     (None, 13, 13, 128)  0           bn3a_branch2a[0][0]              \n",
      "__________________________________________________________________________________________________\n",
      "res3a_branch2b (Conv2D)         (None, 13, 13, 128)  147584      activation_942[0][0]             \n",
      "__________________________________________________________________________________________________\n",
      "bn3a_branch2b (BatchNormalizati (None, 13, 13, 128)  512         res3a_branch2b[0][0]             \n",
      "__________________________________________________________________________________________________\n",
      "activation_943 (Activation)     (None, 13, 13, 128)  0           bn3a_branch2b[0][0]              \n",
      "__________________________________________________________________________________________________\n",
      "res3a_branch2c (Conv2D)         (None, 13, 13, 512)  66048       activation_943[0][0]             \n",
      "__________________________________________________________________________________________________\n",
      "res3a_branch1 (Conv2D)          (None, 13, 13, 512)  131584      activation_941[0][0]             \n",
      "__________________________________________________________________________________________________\n",
      "bn3a_branch2c (BatchNormalizati (None, 13, 13, 512)  2048        res3a_branch2c[0][0]             \n",
      "__________________________________________________________________________________________________\n",
      "bn3a_branch1 (BatchNormalizatio (None, 13, 13, 512)  2048        res3a_branch1[0][0]              \n",
      "__________________________________________________________________________________________________\n",
      "add_308 (Add)                   (None, 13, 13, 512)  0           bn3a_branch2c[0][0]              \n",
      "                                                                 bn3a_branch1[0][0]               \n",
      "__________________________________________________________________________________________________\n",
      "activation_944 (Activation)     (None, 13, 13, 512)  0           add_308[0][0]                    \n",
      "__________________________________________________________________________________________________\n",
      "res3b_branch2a (Conv2D)         (None, 13, 13, 128)  65664       activation_944[0][0]             \n",
      "__________________________________________________________________________________________________\n",
      "bn3b_branch2a (BatchNormalizati (None, 13, 13, 128)  512         res3b_branch2a[0][0]             \n",
      "__________________________________________________________________________________________________\n",
      "activation_945 (Activation)     (None, 13, 13, 128)  0           bn3b_branch2a[0][0]              \n",
      "__________________________________________________________________________________________________\n",
      "res3b_branch2b (Conv2D)         (None, 13, 13, 128)  147584      activation_945[0][0]             \n",
      "__________________________________________________________________________________________________\n",
      "bn3b_branch2b (BatchNormalizati (None, 13, 13, 128)  512         res3b_branch2b[0][0]             \n",
      "__________________________________________________________________________________________________\n",
      "activation_946 (Activation)     (None, 13, 13, 128)  0           bn3b_branch2b[0][0]              \n",
      "__________________________________________________________________________________________________\n",
      "res3b_branch2c (Conv2D)         (None, 13, 13, 512)  66048       activation_946[0][0]             \n",
      "__________________________________________________________________________________________________\n",
      "bn3b_branch2c (BatchNormalizati (None, 13, 13, 512)  2048        res3b_branch2c[0][0]             \n",
      "__________________________________________________________________________________________________\n",
      "add_309 (Add)                   (None, 13, 13, 512)  0           bn3b_branch2c[0][0]              \n",
      "                                                                 activation_944[0][0]             \n",
      "__________________________________________________________________________________________________\n",
      "activation_947 (Activation)     (None, 13, 13, 512)  0           add_309[0][0]                    \n",
      "__________________________________________________________________________________________________\n",
      "res3c_branch2a (Conv2D)         (None, 13, 13, 128)  65664       activation_947[0][0]             \n",
      "__________________________________________________________________________________________________\n",
      "bn3c_branch2a (BatchNormalizati (None, 13, 13, 128)  512         res3c_branch2a[0][0]             \n",
      "__________________________________________________________________________________________________\n",
      "activation_948 (Activation)     (None, 13, 13, 128)  0           bn3c_branch2a[0][0]              \n",
      "__________________________________________________________________________________________________\n",
      "res3c_branch2b (Conv2D)         (None, 13, 13, 128)  147584      activation_948[0][0]             \n",
      "__________________________________________________________________________________________________\n",
      "bn3c_branch2b (BatchNormalizati (None, 13, 13, 128)  512         res3c_branch2b[0][0]             \n",
      "__________________________________________________________________________________________________\n",
      "activation_949 (Activation)     (None, 13, 13, 128)  0           bn3c_branch2b[0][0]              \n",
      "__________________________________________________________________________________________________\n",
      "res3c_branch2c (Conv2D)         (None, 13, 13, 512)  66048       activation_949[0][0]             \n",
      "__________________________________________________________________________________________________\n",
      "bn3c_branch2c (BatchNormalizati (None, 13, 13, 512)  2048        res3c_branch2c[0][0]             \n",
      "__________________________________________________________________________________________________\n",
      "add_310 (Add)                   (None, 13, 13, 512)  0           bn3c_branch2c[0][0]              \n",
      "                                                                 activation_947[0][0]             \n",
      "__________________________________________________________________________________________________\n",
      "activation_950 (Activation)     (None, 13, 13, 512)  0           add_310[0][0]                    \n",
      "__________________________________________________________________________________________________\n",
      "res3d_branch2a (Conv2D)         (None, 13, 13, 128)  65664       activation_950[0][0]             \n",
      "__________________________________________________________________________________________________\n",
      "bn3d_branch2a (BatchNormalizati (None, 13, 13, 128)  512         res3d_branch2a[0][0]             \n",
      "__________________________________________________________________________________________________\n",
      "activation_951 (Activation)     (None, 13, 13, 128)  0           bn3d_branch2a[0][0]              \n",
      "__________________________________________________________________________________________________\n",
      "res3d_branch2b (Conv2D)         (None, 13, 13, 128)  147584      activation_951[0][0]             \n",
      "__________________________________________________________________________________________________\n",
      "bn3d_branch2b (BatchNormalizati (None, 13, 13, 128)  512         res3d_branch2b[0][0]             \n",
      "__________________________________________________________________________________________________\n",
      "activation_952 (Activation)     (None, 13, 13, 128)  0           bn3d_branch2b[0][0]              \n",
      "__________________________________________________________________________________________________\n",
      "res3d_branch2c (Conv2D)         (None, 13, 13, 512)  66048       activation_952[0][0]             \n",
      "__________________________________________________________________________________________________\n",
      "bn3d_branch2c (BatchNormalizati (None, 13, 13, 512)  2048        res3d_branch2c[0][0]             \n",
      "__________________________________________________________________________________________________\n",
      "add_311 (Add)                   (None, 13, 13, 512)  0           bn3d_branch2c[0][0]              \n",
      "                                                                 activation_950[0][0]             \n",
      "__________________________________________________________________________________________________\n",
      "activation_953 (Activation)     (None, 13, 13, 512)  0           add_311[0][0]                    \n",
      "__________________________________________________________________________________________________\n",
      "res4a_branch2a (Conv2D)         (None, 7, 7, 256)    131328      activation_953[0][0]             \n",
      "__________________________________________________________________________________________________\n",
      "bn4a_branch2a (BatchNormalizati (None, 7, 7, 256)    1024        res4a_branch2a[0][0]             \n",
      "__________________________________________________________________________________________________\n",
      "activation_954 (Activation)     (None, 7, 7, 256)    0           bn4a_branch2a[0][0]              \n",
      "__________________________________________________________________________________________________\n",
      "res4a_branch2b (Conv2D)         (None, 7, 7, 256)    590080      activation_954[0][0]             \n",
      "__________________________________________________________________________________________________\n",
      "bn4a_branch2b (BatchNormalizati (None, 7, 7, 256)    1024        res4a_branch2b[0][0]             \n",
      "__________________________________________________________________________________________________\n",
      "activation_955 (Activation)     (None, 7, 7, 256)    0           bn4a_branch2b[0][0]              \n",
      "__________________________________________________________________________________________________\n",
      "res4a_branch2c (Conv2D)         (None, 7, 7, 1024)   263168      activation_955[0][0]             \n",
      "__________________________________________________________________________________________________\n",
      "res4a_branch1 (Conv2D)          (None, 7, 7, 1024)   525312      activation_953[0][0]             \n",
      "__________________________________________________________________________________________________\n",
      "bn4a_branch2c (BatchNormalizati (None, 7, 7, 1024)   4096        res4a_branch2c[0][0]             \n",
      "__________________________________________________________________________________________________\n",
      "bn4a_branch1 (BatchNormalizatio (None, 7, 7, 1024)   4096        res4a_branch1[0][0]              \n",
      "__________________________________________________________________________________________________\n",
      "add_312 (Add)                   (None, 7, 7, 1024)   0           bn4a_branch2c[0][0]              \n",
      "                                                                 bn4a_branch1[0][0]               \n",
      "__________________________________________________________________________________________________\n",
      "activation_956 (Activation)     (None, 7, 7, 1024)   0           add_312[0][0]                    \n",
      "__________________________________________________________________________________________________\n",
      "res4b_branch2a (Conv2D)         (None, 7, 7, 256)    262400      activation_956[0][0]             \n",
      "__________________________________________________________________________________________________\n",
      "bn4b_branch2a (BatchNormalizati (None, 7, 7, 256)    1024        res4b_branch2a[0][0]             \n",
      "__________________________________________________________________________________________________\n",
      "activation_957 (Activation)     (None, 7, 7, 256)    0           bn4b_branch2a[0][0]              \n",
      "__________________________________________________________________________________________________\n",
      "res4b_branch2b (Conv2D)         (None, 7, 7, 256)    590080      activation_957[0][0]             \n",
      "__________________________________________________________________________________________________\n",
      "bn4b_branch2b (BatchNormalizati (None, 7, 7, 256)    1024        res4b_branch2b[0][0]             \n",
      "__________________________________________________________________________________________________\n",
      "activation_958 (Activation)     (None, 7, 7, 256)    0           bn4b_branch2b[0][0]              \n",
      "__________________________________________________________________________________________________\n",
      "res4b_branch2c (Conv2D)         (None, 7, 7, 1024)   263168      activation_958[0][0]             \n",
      "__________________________________________________________________________________________________\n",
      "bn4b_branch2c (BatchNormalizati (None, 7, 7, 1024)   4096        res4b_branch2c[0][0]             \n",
      "__________________________________________________________________________________________________\n",
      "add_313 (Add)                   (None, 7, 7, 1024)   0           bn4b_branch2c[0][0]              \n",
      "                                                                 activation_956[0][0]             \n",
      "__________________________________________________________________________________________________\n",
      "activation_959 (Activation)     (None, 7, 7, 1024)   0           add_313[0][0]                    \n",
      "__________________________________________________________________________________________________\n",
      "res4c_branch2a (Conv2D)         (None, 7, 7, 256)    262400      activation_959[0][0]             \n",
      "__________________________________________________________________________________________________\n",
      "bn4c_branch2a (BatchNormalizati (None, 7, 7, 256)    1024        res4c_branch2a[0][0]             \n",
      "__________________________________________________________________________________________________\n",
      "activation_960 (Activation)     (None, 7, 7, 256)    0           bn4c_branch2a[0][0]              \n",
      "__________________________________________________________________________________________________\n",
      "res4c_branch2b (Conv2D)         (None, 7, 7, 256)    590080      activation_960[0][0]             \n",
      "__________________________________________________________________________________________________\n",
      "bn4c_branch2b (BatchNormalizati (None, 7, 7, 256)    1024        res4c_branch2b[0][0]             \n",
      "__________________________________________________________________________________________________\n",
      "activation_961 (Activation)     (None, 7, 7, 256)    0           bn4c_branch2b[0][0]              \n",
      "__________________________________________________________________________________________________\n",
      "res4c_branch2c (Conv2D)         (None, 7, 7, 1024)   263168      activation_961[0][0]             \n",
      "__________________________________________________________________________________________________\n",
      "bn4c_branch2c (BatchNormalizati (None, 7, 7, 1024)   4096        res4c_branch2c[0][0]             \n",
      "__________________________________________________________________________________________________\n",
      "add_314 (Add)                   (None, 7, 7, 1024)   0           bn4c_branch2c[0][0]              \n",
      "                                                                 activation_959[0][0]             \n",
      "__________________________________________________________________________________________________\n",
      "activation_962 (Activation)     (None, 7, 7, 1024)   0           add_314[0][0]                    \n",
      "__________________________________________________________________________________________________\n",
      "res4d_branch2a (Conv2D)         (None, 7, 7, 256)    262400      activation_962[0][0]             \n",
      "__________________________________________________________________________________________________\n",
      "bn4d_branch2a (BatchNormalizati (None, 7, 7, 256)    1024        res4d_branch2a[0][0]             \n",
      "__________________________________________________________________________________________________\n",
      "activation_963 (Activation)     (None, 7, 7, 256)    0           bn4d_branch2a[0][0]              \n",
      "__________________________________________________________________________________________________\n",
      "res4d_branch2b (Conv2D)         (None, 7, 7, 256)    590080      activation_963[0][0]             \n",
      "__________________________________________________________________________________________________\n",
      "bn4d_branch2b (BatchNormalizati (None, 7, 7, 256)    1024        res4d_branch2b[0][0]             \n",
      "__________________________________________________________________________________________________\n",
      "activation_964 (Activation)     (None, 7, 7, 256)    0           bn4d_branch2b[0][0]              \n",
      "__________________________________________________________________________________________________\n",
      "res4d_branch2c (Conv2D)         (None, 7, 7, 1024)   263168      activation_964[0][0]             \n",
      "__________________________________________________________________________________________________\n",
      "bn4d_branch2c (BatchNormalizati (None, 7, 7, 1024)   4096        res4d_branch2c[0][0]             \n",
      "__________________________________________________________________________________________________\n",
      "add_315 (Add)                   (None, 7, 7, 1024)   0           bn4d_branch2c[0][0]              \n",
      "                                                                 activation_962[0][0]             \n",
      "__________________________________________________________________________________________________\n",
      "activation_965 (Activation)     (None, 7, 7, 1024)   0           add_315[0][0]                    \n",
      "__________________________________________________________________________________________________\n",
      "res4e_branch2a (Conv2D)         (None, 7, 7, 256)    262400      activation_965[0][0]             \n",
      "__________________________________________________________________________________________________\n",
      "bn4e_branch2a (BatchNormalizati (None, 7, 7, 256)    1024        res4e_branch2a[0][0]             \n",
      "__________________________________________________________________________________________________\n",
      "activation_966 (Activation)     (None, 7, 7, 256)    0           bn4e_branch2a[0][0]              \n",
      "__________________________________________________________________________________________________\n",
      "res4e_branch2b (Conv2D)         (None, 7, 7, 256)    590080      activation_966[0][0]             \n",
      "__________________________________________________________________________________________________\n",
      "bn4e_branch2b (BatchNormalizati (None, 7, 7, 256)    1024        res4e_branch2b[0][0]             \n",
      "__________________________________________________________________________________________________\n",
      "activation_967 (Activation)     (None, 7, 7, 256)    0           bn4e_branch2b[0][0]              \n",
      "__________________________________________________________________________________________________\n",
      "res4e_branch2c (Conv2D)         (None, 7, 7, 1024)   263168      activation_967[0][0]             \n",
      "__________________________________________________________________________________________________\n",
      "bn4e_branch2c (BatchNormalizati (None, 7, 7, 1024)   4096        res4e_branch2c[0][0]             \n",
      "__________________________________________________________________________________________________\n",
      "add_316 (Add)                   (None, 7, 7, 1024)   0           bn4e_branch2c[0][0]              \n",
      "                                                                 activation_965[0][0]             \n",
      "__________________________________________________________________________________________________\n",
      "activation_968 (Activation)     (None, 7, 7, 1024)   0           add_316[0][0]                    \n",
      "__________________________________________________________________________________________________\n",
      "res4f_branch2a (Conv2D)         (None, 7, 7, 256)    262400      activation_968[0][0]             \n",
      "__________________________________________________________________________________________________\n",
      "bn4f_branch2a (BatchNormalizati (None, 7, 7, 256)    1024        res4f_branch2a[0][0]             \n",
      "__________________________________________________________________________________________________\n",
      "activation_969 (Activation)     (None, 7, 7, 256)    0           bn4f_branch2a[0][0]              \n",
      "__________________________________________________________________________________________________\n",
      "res4f_branch2b (Conv2D)         (None, 7, 7, 256)    590080      activation_969[0][0]             \n",
      "__________________________________________________________________________________________________\n",
      "bn4f_branch2b (BatchNormalizati (None, 7, 7, 256)    1024        res4f_branch2b[0][0]             \n",
      "__________________________________________________________________________________________________\n",
      "activation_970 (Activation)     (None, 7, 7, 256)    0           bn4f_branch2b[0][0]              \n",
      "__________________________________________________________________________________________________\n",
      "res4f_branch2c (Conv2D)         (None, 7, 7, 1024)   263168      activation_970[0][0]             \n",
      "__________________________________________________________________________________________________\n",
      "bn4f_branch2c (BatchNormalizati (None, 7, 7, 1024)   4096        res4f_branch2c[0][0]             \n",
      "__________________________________________________________________________________________________\n",
      "add_317 (Add)                   (None, 7, 7, 1024)   0           bn4f_branch2c[0][0]              \n",
      "                                                                 activation_968[0][0]             \n",
      "__________________________________________________________________________________________________\n",
      "activation_971 (Activation)     (None, 7, 7, 1024)   0           add_317[0][0]                    \n",
      "__________________________________________________________________________________________________\n",
      "res5a_branch2a (Conv2D)         (None, 4, 4, 512)    524800      activation_971[0][0]             \n",
      "__________________________________________________________________________________________________\n",
      "bn5a_branch2a (BatchNormalizati (None, 4, 4, 512)    2048        res5a_branch2a[0][0]             \n",
      "__________________________________________________________________________________________________\n",
      "activation_972 (Activation)     (None, 4, 4, 512)    0           bn5a_branch2a[0][0]              \n",
      "__________________________________________________________________________________________________\n",
      "res5a_branch2b (Conv2D)         (None, 4, 4, 512)    2359808     activation_972[0][0]             \n",
      "__________________________________________________________________________________________________\n",
      "bn5a_branch2b (BatchNormalizati (None, 4, 4, 512)    2048        res5a_branch2b[0][0]             \n",
      "__________________________________________________________________________________________________\n",
      "activation_973 (Activation)     (None, 4, 4, 512)    0           bn5a_branch2b[0][0]              \n",
      "__________________________________________________________________________________________________\n",
      "res5a_branch2c (Conv2D)         (None, 4, 4, 2048)   1050624     activation_973[0][0]             \n",
      "__________________________________________________________________________________________________\n",
      "res5a_branch1 (Conv2D)          (None, 4, 4, 2048)   2099200     activation_971[0][0]             \n",
      "__________________________________________________________________________________________________\n",
      "bn5a_branch2c (BatchNormalizati (None, 4, 4, 2048)   8192        res5a_branch2c[0][0]             \n",
      "__________________________________________________________________________________________________\n",
      "bn5a_branch1 (BatchNormalizatio (None, 4, 4, 2048)   8192        res5a_branch1[0][0]              \n",
      "__________________________________________________________________________________________________\n",
      "add_318 (Add)                   (None, 4, 4, 2048)   0           bn5a_branch2c[0][0]              \n",
      "                                                                 bn5a_branch1[0][0]               \n",
      "__________________________________________________________________________________________________\n",
      "activation_974 (Activation)     (None, 4, 4, 2048)   0           add_318[0][0]                    \n",
      "__________________________________________________________________________________________________\n",
      "res5b_branch2a (Conv2D)         (None, 4, 4, 512)    1049088     activation_974[0][0]             \n",
      "__________________________________________________________________________________________________\n",
      "bn5b_branch2a (BatchNormalizati (None, 4, 4, 512)    2048        res5b_branch2a[0][0]             \n",
      "__________________________________________________________________________________________________\n",
      "activation_975 (Activation)     (None, 4, 4, 512)    0           bn5b_branch2a[0][0]              \n",
      "__________________________________________________________________________________________________\n",
      "res5b_branch2b (Conv2D)         (None, 4, 4, 512)    2359808     activation_975[0][0]             \n",
      "__________________________________________________________________________________________________\n",
      "bn5b_branch2b (BatchNormalizati (None, 4, 4, 512)    2048        res5b_branch2b[0][0]             \n",
      "__________________________________________________________________________________________________\n",
      "activation_976 (Activation)     (None, 4, 4, 512)    0           bn5b_branch2b[0][0]              \n",
      "__________________________________________________________________________________________________\n",
      "res5b_branch2c (Conv2D)         (None, 4, 4, 2048)   1050624     activation_976[0][0]             \n",
      "__________________________________________________________________________________________________\n",
      "bn5b_branch2c (BatchNormalizati (None, 4, 4, 2048)   8192        res5b_branch2c[0][0]             \n",
      "__________________________________________________________________________________________________\n",
      "add_319 (Add)                   (None, 4, 4, 2048)   0           bn5b_branch2c[0][0]              \n",
      "                                                                 activation_974[0][0]             \n",
      "__________________________________________________________________________________________________\n",
      "activation_977 (Activation)     (None, 4, 4, 2048)   0           add_319[0][0]                    \n",
      "__________________________________________________________________________________________________\n",
      "res5c_branch2a (Conv2D)         (None, 4, 4, 512)    1049088     activation_977[0][0]             \n",
      "__________________________________________________________________________________________________\n",
      "bn5c_branch2a (BatchNormalizati (None, 4, 4, 512)    2048        res5c_branch2a[0][0]             \n",
      "__________________________________________________________________________________________________\n",
      "activation_978 (Activation)     (None, 4, 4, 512)    0           bn5c_branch2a[0][0]              \n",
      "__________________________________________________________________________________________________\n",
      "res5c_branch2b (Conv2D)         (None, 4, 4, 512)    2359808     activation_978[0][0]             \n",
      "__________________________________________________________________________________________________\n",
      "bn5c_branch2b (BatchNormalizati (None, 4, 4, 512)    2048        res5c_branch2b[0][0]             \n",
      "__________________________________________________________________________________________________\n",
      "activation_979 (Activation)     (None, 4, 4, 512)    0           bn5c_branch2b[0][0]              \n",
      "__________________________________________________________________________________________________\n",
      "res5c_branch2c (Conv2D)         (None, 4, 4, 2048)   1050624     activation_979[0][0]             \n",
      "__________________________________________________________________________________________________\n",
      "bn5c_branch2c (BatchNormalizati (None, 4, 4, 2048)   8192        res5c_branch2c[0][0]             \n",
      "__________________________________________________________________________________________________\n",
      "add_320 (Add)                   (None, 4, 4, 2048)   0           bn5c_branch2c[0][0]              \n",
      "                                                                 activation_977[0][0]             \n",
      "__________________________________________________________________________________________________\n",
      "activation_980 (Activation)     (None, 4, 4, 2048)   0           add_320[0][0]                    \n",
      "__________________________________________________________________________________________________\n",
      "global_average_pooling2d_11 (Gl (None, 2048)         0           activation_980[0][0]             \n",
      "__________________________________________________________________________________________________\n",
      "dense_43 (Dense)                (None, 512)          1049088     global_average_pooling2d_11[0][0]\n",
      "__________________________________________________________________________________________________\n",
      "dropout_32 (Dropout)            (None, 512)          0           dense_43[0][0]                   \n",
      "__________________________________________________________________________________________________\n",
      "dense_44 (Dense)                (None, 8)            4104        dropout_32[0][0]                 \n",
      "==================================================================================================\n",
      "Total params: 24,640,904\n",
      "Trainable params: 24,587,784\n",
      "Non-trainable params: 53,120\n",
      "__________________________________________________________________________________________________\n"
     ]
    },
    {
     "name": "stderr",
     "output_type": "stream",
     "text": [
      "C:\\Users\\scsur\\Anaconda3\\lib\\site-packages\\ipykernel_launcher.py:5: UserWarning: Update your `Model` call to the Keras 2 API: `Model(outputs=Tensor(\"de..., inputs=Tensor(\"in...)`\n",
      "  \"\"\"\n"
     ]
    }
   ],
   "source": [
    "av1=GlobalAveragePooling2D()(model.output)\n",
    "fc1=Dense(512,activation='relu')(av1)\n",
    "d1=Dropout(0.5)(fc1)\n",
    "fc2=Dense(8,activation='softmax')(d1)\n",
    "new_model=Model(input=model.input,outputs=fc2)\n",
    "new_model.summary()"
   ]
  },
  {
   "cell_type": "code",
   "execution_count": 435,
   "metadata": {},
   "outputs": [],
   "source": [
    "adam=Adam(lr=0.001)\n",
    "new_model.compile(loss='categorical_crossentropy',optimizer=adam,metrics=['accuracy'])"
   ]
  },
  {
   "cell_type": "code",
   "execution_count": 436,
   "metadata": {},
   "outputs": [
    {
     "name": "stdout",
     "output_type": "stream",
     "text": [
      "0 <keras.engine.input_layer.InputLayer object at 0x000001FA137E6B08>\n",
      "1 <keras.layers.convolutional.ZeroPadding2D object at 0x000001FA570E3948>\n",
      "2 <keras.layers.convolutional.Conv2D object at 0x000001FAD47602C8>\n",
      "3 <keras.layers.normalization.BatchNormalization object at 0x000001FA28EBDAC8>\n",
      "4 <keras.layers.core.Activation object at 0x000001FA0FA065C8>\n",
      "5 <keras.layers.convolutional.ZeroPadding2D object at 0x000001FA8449F308>\n",
      "6 <keras.layers.pooling.MaxPooling2D object at 0x000001FA0F4A54C8>\n",
      "7 <keras.layers.convolutional.Conv2D object at 0x000001FAE9B4E2C8>\n",
      "8 <keras.layers.normalization.BatchNormalization object at 0x000001FAE9B3F148>\n",
      "9 <keras.layers.core.Activation object at 0x000001FAE9B3F648>\n",
      "10 <keras.layers.convolutional.Conv2D object at 0x000001FAE9B3F288>\n",
      "11 <keras.layers.normalization.BatchNormalization object at 0x000001FAE9B13888>\n",
      "12 <keras.layers.core.Activation object at 0x000001FAE9B564C8>\n",
      "13 <keras.layers.convolutional.Conv2D object at 0x000001FAE9B70888>\n",
      "14 <keras.layers.convolutional.Conv2D object at 0x000001FAE9B5AC88>\n",
      "15 <keras.layers.normalization.BatchNormalization object at 0x000001FAE9B75E88>\n",
      "16 <keras.layers.normalization.BatchNormalization object at 0x000001FA5723EF48>\n",
      "17 <keras.layers.merge.Add object at 0x000001FA57234E88>\n",
      "18 <keras.layers.core.Activation object at 0x000001FA572528C8>\n",
      "19 <keras.layers.convolutional.Conv2D object at 0x000001FA57252D08>\n",
      "20 <keras.layers.normalization.BatchNormalization object at 0x000001FA5A596E48>\n",
      "21 <keras.layers.core.Activation object at 0x000001FA5A596F08>\n",
      "22 <keras.layers.convolutional.Conv2D object at 0x000001FA5A5A1808>\n",
      "23 <keras.layers.normalization.BatchNormalization object at 0x000001FA5A5BE8C8>\n",
      "24 <keras.layers.core.Activation object at 0x000001FA5A5A1108>\n",
      "25 <keras.layers.convolutional.Conv2D object at 0x000001FA83EC68C8>\n",
      "26 <keras.layers.normalization.BatchNormalization object at 0x000001FA83EEB308>\n",
      "27 <keras.layers.merge.Add object at 0x000001FA1BB24EC8>\n",
      "28 <keras.layers.core.Activation object at 0x000001FA1BB28D88>\n",
      "29 <keras.layers.convolutional.Conv2D object at 0x000001FA1BB28C08>\n",
      "30 <keras.layers.normalization.BatchNormalization object at 0x000001FA1BB55548>\n",
      "31 <keras.layers.core.Activation object at 0x000001FA1BB55648>\n",
      "32 <keras.layers.convolutional.Conv2D object at 0x000001FA1BB555C8>\n",
      "33 <keras.layers.normalization.BatchNormalization object at 0x000001FA1BB82E08>\n",
      "34 <keras.layers.core.Activation object at 0x000001FA1BB88588>\n",
      "35 <keras.layers.convolutional.Conv2D object at 0x000001FA1BB8A948>\n",
      "36 <keras.layers.normalization.BatchNormalization object at 0x000001FA1BBA7F48>\n",
      "37 <keras.layers.merge.Add object at 0x000001FA1BB8A248>\n",
      "38 <keras.layers.core.Activation object at 0x000001FA1BBBE648>\n",
      "39 <keras.layers.convolutional.Conv2D object at 0x000001FA1BBD4BC8>\n",
      "40 <keras.layers.normalization.BatchNormalization object at 0x000001FA1BBEDC08>\n",
      "41 <keras.layers.core.Activation object at 0x000001FA1BBEDCC8>\n",
      "42 <keras.layers.convolutional.Conv2D object at 0x000001FA1BBF15C8>\n",
      "43 <keras.layers.normalization.BatchNormalization object at 0x000001FA1BC18488>\n",
      "44 <keras.layers.core.Activation object at 0x000001FA2A212208>\n",
      "45 <keras.layers.convolutional.Conv2D object at 0x000001FA2A216048>\n",
      "46 <keras.layers.convolutional.Conv2D object at 0x000001FA2A2430C8>\n",
      "47 <keras.layers.normalization.BatchNormalization object at 0x000001FA2A235E88>\n",
      "48 <keras.layers.normalization.BatchNormalization object at 0x000001FA2A25C2C8>\n",
      "49 <keras.layers.merge.Add object at 0x000001FA2A25FBC8>\n",
      "50 <keras.layers.core.Activation object at 0x000001FA2A273FC8>\n",
      "51 <keras.layers.convolutional.Conv2D object at 0x000001FA2A276048>\n",
      "52 <keras.layers.normalization.BatchNormalization object at 0x000001FA2A2A6648>\n",
      "53 <keras.layers.core.Activation object at 0x000001FA2A2A6748>\n",
      "54 <keras.layers.convolutional.Conv2D object at 0x000001FA2A2A9188>\n",
      "55 <keras.layers.normalization.BatchNormalization object at 0x000001FA2A2D1F08>\n",
      "56 <keras.layers.core.Activation object at 0x000001FA2A2D6788>\n",
      "57 <keras.layers.convolutional.Conv2D object at 0x000001FA2A2D8A88>\n",
      "58 <keras.layers.normalization.BatchNormalization object at 0x000001FA2A2F6A88>\n",
      "59 <keras.layers.merge.Add object at 0x000001FA2A2D8348>\n",
      "60 <keras.layers.core.Activation object at 0x000001FA2A300748>\n",
      "61 <keras.layers.convolutional.Conv2D object at 0x000001FA2A320CC8>\n",
      "62 <keras.layers.normalization.BatchNormalization object at 0x000001FA2A33DD08>\n",
      "63 <keras.layers.core.Activation object at 0x000001FA2A33DDC8>\n",
      "64 <keras.layers.convolutional.Conv2D object at 0x000001FA2A33F6C8>\n",
      "65 <keras.layers.normalization.BatchNormalization object at 0x000001FA2A369048>\n",
      "66 <keras.layers.core.Activation object at 0x000001FA2A36DE48>\n",
      "67 <keras.layers.convolutional.Conv2D object at 0x000001FA2A3739C8>\n",
      "68 <keras.layers.normalization.BatchNormalization object at 0x000001FA32C681C8>\n",
      "69 <keras.layers.merge.Add object at 0x000001FA32C6DF88>\n",
      "70 <keras.layers.core.Activation object at 0x000001FA32C73C88>\n",
      "71 <keras.layers.convolutional.Conv2D object at 0x000001FA32C73FC8>\n",
      "72 <keras.layers.normalization.BatchNormalization object at 0x000001FA32CA6408>\n",
      "73 <keras.layers.core.Activation object at 0x000001FA32CA6508>\n",
      "74 <keras.layers.convolutional.Conv2D object at 0x000001FA32CA6488>\n",
      "75 <keras.layers.normalization.BatchNormalization object at 0x000001FA32CCD708>\n",
      "76 <keras.layers.core.Activation object at 0x000001FA32CD6448>\n",
      "77 <keras.layers.convolutional.Conv2D object at 0x000001FA32CD9808>\n",
      "78 <keras.layers.normalization.BatchNormalization object at 0x000001FA32CF4E08>\n",
      "79 <keras.layers.merge.Add object at 0x000001FA32CD9108>\n",
      "80 <keras.layers.core.Activation object at 0x000001FA32D0D508>\n",
      "81 <keras.layers.convolutional.Conv2D object at 0x000001FA32D0D388>\n",
      "82 <keras.layers.normalization.BatchNormalization object at 0x000001FA32D3DAC8>\n",
      "83 <keras.layers.core.Activation object at 0x000001FA32D3DB88>\n",
      "84 <keras.layers.convolutional.Conv2D object at 0x000001FA32D40AC8>\n",
      "85 <keras.layers.normalization.BatchNormalization object at 0x000001FA32D5E048>\n",
      "86 <keras.layers.core.Activation object at 0x000001FA32D6C1C8>\n",
      "87 <keras.layers.convolutional.Conv2D object at 0x000001FA32D6F308>\n",
      "88 <keras.layers.convolutional.Conv2D object at 0x000001FA32DA3948>\n",
      "89 <keras.layers.normalization.BatchNormalization object at 0x000001FA32D95E08>\n",
      "90 <keras.layers.normalization.BatchNormalization object at 0x000001FA32DB6E08>\n",
      "91 <keras.layers.merge.Add object at 0x000001FA32DBFA88>\n",
      "92 <keras.layers.core.Activation object at 0x000001FA32DD3E08>\n",
      "93 <keras.layers.convolutional.Conv2D object at 0x000001FA32DD3FC8>\n",
      "94 <keras.layers.normalization.BatchNormalization object at 0x000001FA32E07508>\n",
      "95 <keras.layers.core.Activation object at 0x000001FA32E07608>\n",
      "96 <keras.layers.convolutional.Conv2D object at 0x000001FA32E07588>\n",
      "97 <keras.layers.normalization.BatchNormalization object at 0x000001FA32E30DC8>\n",
      "98 <keras.layers.core.Activation object at 0x000001FA32E36548>\n",
      "99 <keras.layers.convolutional.Conv2D object at 0x000001FA32E39908>\n",
      "100 <keras.layers.normalization.BatchNormalization object at 0x000001FA32E55F08>\n",
      "101 <keras.layers.merge.Add object at 0x000001FA32E39208>\n",
      "102 <keras.layers.core.Activation object at 0x000001FA32E6D608>\n",
      "103 <keras.layers.convolutional.Conv2D object at 0x000001FA32E82B88>\n",
      "104 <keras.layers.normalization.BatchNormalization object at 0x000001FA32E9DBC8>\n",
      "105 <keras.layers.core.Activation object at 0x000001FA32E9DC88>\n",
      "106 <keras.layers.convolutional.Conv2D object at 0x000001FA32E9FBC8>\n",
      "107 <keras.layers.normalization.BatchNormalization object at 0x000001FA32EBE148>\n",
      "108 <keras.layers.core.Activation object at 0x000001FA32ECFF08>\n",
      "109 <keras.layers.convolutional.Conv2D object at 0x000001FA32ED3188>\n",
      "110 <keras.layers.normalization.BatchNormalization object at 0x000001FA32EF9F08>\n",
      "111 <keras.layers.merge.Add object at 0x000001FA32EFF788>\n",
      "112 <keras.layers.core.Activation object at 0x000001FA32F03B48>\n",
      "113 <keras.layers.convolutional.Conv2D object at 0x000001FA32F03E08>\n",
      "114 <keras.layers.normalization.BatchNormalization object at 0x000001FA32F352C8>\n",
      "115 <keras.layers.core.Activation object at 0x000001FA32F353C8>\n",
      "116 <keras.layers.convolutional.Conv2D object at 0x000001FA32F35348>\n",
      "117 <keras.layers.normalization.BatchNormalization object at 0x000001FA32F51C88>\n",
      "118 <keras.layers.core.Activation object at 0x000001FA32F35548>\n",
      "119 <keras.layers.convolutional.Conv2D object at 0x000001FA32F6A6C8>\n",
      "120 <keras.layers.normalization.BatchNormalization object at 0x000001FA32F91048>\n",
      "121 <keras.layers.merge.Add object at 0x000001FA32F97E48>\n",
      "122 <keras.layers.core.Activation object at 0x000001FA32F9E388>\n",
      "123 <keras.layers.convolutional.Conv2D object at 0x000001FA32F9E3C8>\n",
      "124 <keras.layers.normalization.BatchNormalization object at 0x000001FA32FCC988>\n",
      "125 <keras.layers.core.Activation object at 0x000001FA32FCCA48>\n",
      "126 <keras.layers.convolutional.Conv2D object at 0x000001FA32FD0988>\n",
      "127 <keras.layers.normalization.BatchNormalization object at 0x000001FA334A43C8>\n",
      "128 <keras.layers.core.Activation object at 0x000001FA334ACD88>\n",
      "129 <keras.layers.convolutional.Conv2D object at 0x000001FA334AF3C8>\n",
      "130 <keras.layers.normalization.BatchNormalization object at 0x000001FA5B329708>\n",
      "131 <keras.layers.merge.Add object at 0x000001FA5B331448>\n",
      "132 <keras.layers.core.Activation object at 0x000001FA5B335908>\n",
      "133 <keras.layers.convolutional.Conv2D object at 0x000001FA5B348908>\n",
      "134 <keras.layers.normalization.BatchNormalization object at 0x000001FA5B367088>\n",
      "135 <keras.layers.core.Activation object at 0x000001FA5B367188>\n",
      "136 <keras.layers.convolutional.Conv2D object at 0x000001FA5B367108>\n",
      "137 <keras.layers.normalization.BatchNormalization object at 0x000001FA5B381A48>\n",
      "138 <keras.layers.core.Activation object at 0x000001FA5B367308>\n",
      "139 <keras.layers.convolutional.Conv2D object at 0x000001FA5B399AC8>\n",
      "140 <keras.layers.normalization.BatchNormalization object at 0x000001FA5B3B7048>\n",
      "141 <keras.layers.merge.Add object at 0x000001FA5B3C71C8>\n",
      "142 <keras.layers.core.Activation object at 0x000001FA5B3C9F08>\n",
      "143 <keras.layers.convolutional.Conv2D object at 0x000001FA5B3E3188>\n",
      "144 <keras.layers.normalization.BatchNormalization object at 0x000001FA5B3FE748>\n",
      "145 <keras.layers.core.Activation object at 0x000001FA5B3FE808>\n",
      "146 <keras.layers.convolutional.Conv2D object at 0x000001FA5B400988>\n",
      "147 <keras.layers.normalization.BatchNormalization object at 0x000001FA5B663188>\n",
      "148 <keras.layers.core.Activation object at 0x000001FA5B66CF48>\n",
      "149 <keras.layers.convolutional.Conv2D object at 0x000001FA5B670108>\n",
      "150 <keras.layers.convolutional.Conv2D object at 0x000001FA5B6A45C8>\n",
      "151 <keras.layers.normalization.BatchNormalization object at 0x000001FA5B68AB88>\n",
      "152 <keras.layers.normalization.BatchNormalization object at 0x000001FA5B6B8DC8>\n",
      "153 <keras.layers.merge.Add object at 0x000001FA5B6BEEC8>\n",
      "154 <keras.layers.core.Activation object at 0x000001FA5B6D4B88>\n",
      "155 <keras.layers.convolutional.Conv2D object at 0x000001FA5B6D4E48>\n",
      "156 <keras.layers.normalization.BatchNormalization object at 0x000001FA5B704188>\n",
      "157 <keras.layers.core.Activation object at 0x000001FA5B704288>\n",
      "158 <keras.layers.convolutional.Conv2D object at 0x000001FA5B704208>\n",
      "159 <keras.layers.normalization.BatchNormalization object at 0x000001FA5B722B48>\n",
      "160 <keras.layers.core.Activation object at 0x000001FA5B704408>\n",
      "161 <keras.layers.convolutional.Conv2D object at 0x000001FA5B73ABC8>\n",
      "162 <keras.layers.normalization.BatchNormalization object at 0x000001FA5B75A148>\n",
      "163 <keras.layers.merge.Add object at 0x000001FA5B768F08>\n",
      "164 <keras.layers.core.Activation object at 0x000001FA5B76F888>\n",
      "165 <keras.layers.convolutional.Conv2D object at 0x000001FA5B783688>\n",
      "166 <keras.layers.normalization.BatchNormalization object at 0x000001FA5B79D848>\n",
      "167 <keras.layers.core.Activation object at 0x000001FA5B79D908>\n",
      "168 <keras.layers.convolutional.Conv2D object at 0x000001FA5B79E848>\n",
      "169 <keras.layers.normalization.BatchNormalization object at 0x000001FA5BB45288>\n",
      "170 <keras.layers.core.Activation object at 0x000001FA5BB4DF88>\n",
      "171 <keras.layers.convolutional.Conv2D object at 0x000001FA5BB4F2C8>\n",
      "172 <keras.layers.normalization.BatchNormalization object at 0x000001FA83EFBC88>\n",
      "173 <keras.layers.merge.Add object at 0x000001FA5BB4F548>\n",
      "174 <keras.layers.core.Activation object at 0x000001FA83F147C8>\n",
      "175 <keras.layers.pooling.GlobalAveragePooling2D object at 0x000001FA83F551C8>\n",
      "176 <keras.layers.core.Dense object at 0x000001FA83F55148>\n",
      "177 <keras.layers.core.Dropout object at 0x000001FA83F55408>\n",
      "178 <keras.layers.core.Dense object at 0x000001FA83F555C8>\n"
     ]
    }
   ],
   "source": [
    "for ix in range(len(new_model.layers)):\n",
    "    print(ix,new_model.layers[ix])"
   ]
  },
  {
   "cell_type": "code",
   "execution_count": 437,
   "metadata": {},
   "outputs": [
    {
     "name": "stdout",
     "output_type": "stream",
     "text": [
      "Model: \"model_24\"\n",
      "__________________________________________________________________________________________________\n",
      "Layer (type)                    Output Shape         Param #     Connected to                     \n",
      "==================================================================================================\n",
      "input_21 (InputLayer)           (None, 100, 100, 3)  0                                            \n",
      "__________________________________________________________________________________________________\n",
      "conv1_pad (ZeroPadding2D)       (None, 106, 106, 3)  0           input_21[0][0]                   \n",
      "__________________________________________________________________________________________________\n",
      "conv1 (Conv2D)                  (None, 50, 50, 64)   9472        conv1_pad[0][0]                  \n",
      "__________________________________________________________________________________________________\n",
      "bn_conv1 (BatchNormalization)   (None, 50, 50, 64)   256         conv1[0][0]                      \n",
      "__________________________________________________________________________________________________\n",
      "activation_932 (Activation)     (None, 50, 50, 64)   0           bn_conv1[0][0]                   \n",
      "__________________________________________________________________________________________________\n",
      "pool1_pad (ZeroPadding2D)       (None, 52, 52, 64)   0           activation_932[0][0]             \n",
      "__________________________________________________________________________________________________\n",
      "max_pooling2d_23 (MaxPooling2D) (None, 25, 25, 64)   0           pool1_pad[0][0]                  \n",
      "__________________________________________________________________________________________________\n",
      "res2a_branch2a (Conv2D)         (None, 25, 25, 64)   4160        max_pooling2d_23[0][0]           \n",
      "__________________________________________________________________________________________________\n",
      "bn2a_branch2a (BatchNormalizati (None, 25, 25, 64)   256         res2a_branch2a[0][0]             \n",
      "__________________________________________________________________________________________________\n",
      "activation_933 (Activation)     (None, 25, 25, 64)   0           bn2a_branch2a[0][0]              \n",
      "__________________________________________________________________________________________________\n",
      "res2a_branch2b (Conv2D)         (None, 25, 25, 64)   36928       activation_933[0][0]             \n",
      "__________________________________________________________________________________________________\n",
      "bn2a_branch2b (BatchNormalizati (None, 25, 25, 64)   256         res2a_branch2b[0][0]             \n",
      "__________________________________________________________________________________________________\n",
      "activation_934 (Activation)     (None, 25, 25, 64)   0           bn2a_branch2b[0][0]              \n",
      "__________________________________________________________________________________________________\n",
      "res2a_branch2c (Conv2D)         (None, 25, 25, 256)  16640       activation_934[0][0]             \n",
      "__________________________________________________________________________________________________\n",
      "res2a_branch1 (Conv2D)          (None, 25, 25, 256)  16640       max_pooling2d_23[0][0]           \n",
      "__________________________________________________________________________________________________\n",
      "bn2a_branch2c (BatchNormalizati (None, 25, 25, 256)  1024        res2a_branch2c[0][0]             \n",
      "__________________________________________________________________________________________________\n",
      "bn2a_branch1 (BatchNormalizatio (None, 25, 25, 256)  1024        res2a_branch1[0][0]              \n",
      "__________________________________________________________________________________________________\n",
      "add_305 (Add)                   (None, 25, 25, 256)  0           bn2a_branch2c[0][0]              \n",
      "                                                                 bn2a_branch1[0][0]               \n",
      "__________________________________________________________________________________________________\n",
      "activation_935 (Activation)     (None, 25, 25, 256)  0           add_305[0][0]                    \n",
      "__________________________________________________________________________________________________\n",
      "res2b_branch2a (Conv2D)         (None, 25, 25, 64)   16448       activation_935[0][0]             \n",
      "__________________________________________________________________________________________________\n",
      "bn2b_branch2a (BatchNormalizati (None, 25, 25, 64)   256         res2b_branch2a[0][0]             \n",
      "__________________________________________________________________________________________________\n",
      "activation_936 (Activation)     (None, 25, 25, 64)   0           bn2b_branch2a[0][0]              \n",
      "__________________________________________________________________________________________________\n",
      "res2b_branch2b (Conv2D)         (None, 25, 25, 64)   36928       activation_936[0][0]             \n",
      "__________________________________________________________________________________________________\n",
      "bn2b_branch2b (BatchNormalizati (None, 25, 25, 64)   256         res2b_branch2b[0][0]             \n",
      "__________________________________________________________________________________________________\n",
      "activation_937 (Activation)     (None, 25, 25, 64)   0           bn2b_branch2b[0][0]              \n",
      "__________________________________________________________________________________________________\n",
      "res2b_branch2c (Conv2D)         (None, 25, 25, 256)  16640       activation_937[0][0]             \n",
      "__________________________________________________________________________________________________\n",
      "bn2b_branch2c (BatchNormalizati (None, 25, 25, 256)  1024        res2b_branch2c[0][0]             \n",
      "__________________________________________________________________________________________________\n",
      "add_306 (Add)                   (None, 25, 25, 256)  0           bn2b_branch2c[0][0]              \n",
      "                                                                 activation_935[0][0]             \n",
      "__________________________________________________________________________________________________\n",
      "activation_938 (Activation)     (None, 25, 25, 256)  0           add_306[0][0]                    \n",
      "__________________________________________________________________________________________________\n",
      "res2c_branch2a (Conv2D)         (None, 25, 25, 64)   16448       activation_938[0][0]             \n",
      "__________________________________________________________________________________________________\n",
      "bn2c_branch2a (BatchNormalizati (None, 25, 25, 64)   256         res2c_branch2a[0][0]             \n",
      "__________________________________________________________________________________________________\n",
      "activation_939 (Activation)     (None, 25, 25, 64)   0           bn2c_branch2a[0][0]              \n",
      "__________________________________________________________________________________________________\n",
      "res2c_branch2b (Conv2D)         (None, 25, 25, 64)   36928       activation_939[0][0]             \n",
      "__________________________________________________________________________________________________\n",
      "bn2c_branch2b (BatchNormalizati (None, 25, 25, 64)   256         res2c_branch2b[0][0]             \n",
      "__________________________________________________________________________________________________\n",
      "activation_940 (Activation)     (None, 25, 25, 64)   0           bn2c_branch2b[0][0]              \n",
      "__________________________________________________________________________________________________\n",
      "res2c_branch2c (Conv2D)         (None, 25, 25, 256)  16640       activation_940[0][0]             \n",
      "__________________________________________________________________________________________________\n",
      "bn2c_branch2c (BatchNormalizati (None, 25, 25, 256)  1024        res2c_branch2c[0][0]             \n",
      "__________________________________________________________________________________________________\n",
      "add_307 (Add)                   (None, 25, 25, 256)  0           bn2c_branch2c[0][0]              \n",
      "                                                                 activation_938[0][0]             \n",
      "__________________________________________________________________________________________________\n",
      "activation_941 (Activation)     (None, 25, 25, 256)  0           add_307[0][0]                    \n",
      "__________________________________________________________________________________________________\n",
      "res3a_branch2a (Conv2D)         (None, 13, 13, 128)  32896       activation_941[0][0]             \n",
      "__________________________________________________________________________________________________\n",
      "bn3a_branch2a (BatchNormalizati (None, 13, 13, 128)  512         res3a_branch2a[0][0]             \n",
      "__________________________________________________________________________________________________\n",
      "activation_942 (Activation)     (None, 13, 13, 128)  0           bn3a_branch2a[0][0]              \n",
      "__________________________________________________________________________________________________\n",
      "res3a_branch2b (Conv2D)         (None, 13, 13, 128)  147584      activation_942[0][0]             \n",
      "__________________________________________________________________________________________________\n",
      "bn3a_branch2b (BatchNormalizati (None, 13, 13, 128)  512         res3a_branch2b[0][0]             \n",
      "__________________________________________________________________________________________________\n",
      "activation_943 (Activation)     (None, 13, 13, 128)  0           bn3a_branch2b[0][0]              \n",
      "__________________________________________________________________________________________________\n",
      "res3a_branch2c (Conv2D)         (None, 13, 13, 512)  66048       activation_943[0][0]             \n",
      "__________________________________________________________________________________________________\n",
      "res3a_branch1 (Conv2D)          (None, 13, 13, 512)  131584      activation_941[0][0]             \n",
      "__________________________________________________________________________________________________\n",
      "bn3a_branch2c (BatchNormalizati (None, 13, 13, 512)  2048        res3a_branch2c[0][0]             \n",
      "__________________________________________________________________________________________________\n",
      "bn3a_branch1 (BatchNormalizatio (None, 13, 13, 512)  2048        res3a_branch1[0][0]              \n",
      "__________________________________________________________________________________________________\n",
      "add_308 (Add)                   (None, 13, 13, 512)  0           bn3a_branch2c[0][0]              \n",
      "                                                                 bn3a_branch1[0][0]               \n",
      "__________________________________________________________________________________________________\n",
      "activation_944 (Activation)     (None, 13, 13, 512)  0           add_308[0][0]                    \n",
      "__________________________________________________________________________________________________\n",
      "res3b_branch2a (Conv2D)         (None, 13, 13, 128)  65664       activation_944[0][0]             \n",
      "__________________________________________________________________________________________________\n",
      "bn3b_branch2a (BatchNormalizati (None, 13, 13, 128)  512         res3b_branch2a[0][0]             \n",
      "__________________________________________________________________________________________________\n",
      "activation_945 (Activation)     (None, 13, 13, 128)  0           bn3b_branch2a[0][0]              \n",
      "__________________________________________________________________________________________________\n",
      "res3b_branch2b (Conv2D)         (None, 13, 13, 128)  147584      activation_945[0][0]             \n",
      "__________________________________________________________________________________________________\n",
      "bn3b_branch2b (BatchNormalizati (None, 13, 13, 128)  512         res3b_branch2b[0][0]             \n",
      "__________________________________________________________________________________________________\n",
      "activation_946 (Activation)     (None, 13, 13, 128)  0           bn3b_branch2b[0][0]              \n",
      "__________________________________________________________________________________________________\n",
      "res3b_branch2c (Conv2D)         (None, 13, 13, 512)  66048       activation_946[0][0]             \n",
      "__________________________________________________________________________________________________\n",
      "bn3b_branch2c (BatchNormalizati (None, 13, 13, 512)  2048        res3b_branch2c[0][0]             \n",
      "__________________________________________________________________________________________________\n",
      "add_309 (Add)                   (None, 13, 13, 512)  0           bn3b_branch2c[0][0]              \n",
      "                                                                 activation_944[0][0]             \n",
      "__________________________________________________________________________________________________\n",
      "activation_947 (Activation)     (None, 13, 13, 512)  0           add_309[0][0]                    \n",
      "__________________________________________________________________________________________________\n",
      "res3c_branch2a (Conv2D)         (None, 13, 13, 128)  65664       activation_947[0][0]             \n",
      "__________________________________________________________________________________________________\n",
      "bn3c_branch2a (BatchNormalizati (None, 13, 13, 128)  512         res3c_branch2a[0][0]             \n",
      "__________________________________________________________________________________________________\n",
      "activation_948 (Activation)     (None, 13, 13, 128)  0           bn3c_branch2a[0][0]              \n",
      "__________________________________________________________________________________________________\n",
      "res3c_branch2b (Conv2D)         (None, 13, 13, 128)  147584      activation_948[0][0]             \n",
      "__________________________________________________________________________________________________\n",
      "bn3c_branch2b (BatchNormalizati (None, 13, 13, 128)  512         res3c_branch2b[0][0]             \n",
      "__________________________________________________________________________________________________\n",
      "activation_949 (Activation)     (None, 13, 13, 128)  0           bn3c_branch2b[0][0]              \n",
      "__________________________________________________________________________________________________\n",
      "res3c_branch2c (Conv2D)         (None, 13, 13, 512)  66048       activation_949[0][0]             \n",
      "__________________________________________________________________________________________________\n",
      "bn3c_branch2c (BatchNormalizati (None, 13, 13, 512)  2048        res3c_branch2c[0][0]             \n",
      "__________________________________________________________________________________________________\n",
      "add_310 (Add)                   (None, 13, 13, 512)  0           bn3c_branch2c[0][0]              \n",
      "                                                                 activation_947[0][0]             \n",
      "__________________________________________________________________________________________________\n",
      "activation_950 (Activation)     (None, 13, 13, 512)  0           add_310[0][0]                    \n",
      "__________________________________________________________________________________________________\n",
      "res3d_branch2a (Conv2D)         (None, 13, 13, 128)  65664       activation_950[0][0]             \n",
      "__________________________________________________________________________________________________\n",
      "bn3d_branch2a (BatchNormalizati (None, 13, 13, 128)  512         res3d_branch2a[0][0]             \n",
      "__________________________________________________________________________________________________\n",
      "activation_951 (Activation)     (None, 13, 13, 128)  0           bn3d_branch2a[0][0]              \n",
      "__________________________________________________________________________________________________\n",
      "res3d_branch2b (Conv2D)         (None, 13, 13, 128)  147584      activation_951[0][0]             \n",
      "__________________________________________________________________________________________________\n",
      "bn3d_branch2b (BatchNormalizati (None, 13, 13, 128)  512         res3d_branch2b[0][0]             \n",
      "__________________________________________________________________________________________________\n",
      "activation_952 (Activation)     (None, 13, 13, 128)  0           bn3d_branch2b[0][0]              \n",
      "__________________________________________________________________________________________________\n",
      "res3d_branch2c (Conv2D)         (None, 13, 13, 512)  66048       activation_952[0][0]             \n",
      "__________________________________________________________________________________________________\n",
      "bn3d_branch2c (BatchNormalizati (None, 13, 13, 512)  2048        res3d_branch2c[0][0]             \n",
      "__________________________________________________________________________________________________\n",
      "add_311 (Add)                   (None, 13, 13, 512)  0           bn3d_branch2c[0][0]              \n",
      "                                                                 activation_950[0][0]             \n",
      "__________________________________________________________________________________________________\n",
      "activation_953 (Activation)     (None, 13, 13, 512)  0           add_311[0][0]                    \n",
      "__________________________________________________________________________________________________\n",
      "res4a_branch2a (Conv2D)         (None, 7, 7, 256)    131328      activation_953[0][0]             \n",
      "__________________________________________________________________________________________________\n",
      "bn4a_branch2a (BatchNormalizati (None, 7, 7, 256)    1024        res4a_branch2a[0][0]             \n",
      "__________________________________________________________________________________________________\n",
      "activation_954 (Activation)     (None, 7, 7, 256)    0           bn4a_branch2a[0][0]              \n",
      "__________________________________________________________________________________________________\n",
      "res4a_branch2b (Conv2D)         (None, 7, 7, 256)    590080      activation_954[0][0]             \n",
      "__________________________________________________________________________________________________\n",
      "bn4a_branch2b (BatchNormalizati (None, 7, 7, 256)    1024        res4a_branch2b[0][0]             \n",
      "__________________________________________________________________________________________________\n",
      "activation_955 (Activation)     (None, 7, 7, 256)    0           bn4a_branch2b[0][0]              \n",
      "__________________________________________________________________________________________________\n",
      "res4a_branch2c (Conv2D)         (None, 7, 7, 1024)   263168      activation_955[0][0]             \n",
      "__________________________________________________________________________________________________\n",
      "res4a_branch1 (Conv2D)          (None, 7, 7, 1024)   525312      activation_953[0][0]             \n",
      "__________________________________________________________________________________________________\n",
      "bn4a_branch2c (BatchNormalizati (None, 7, 7, 1024)   4096        res4a_branch2c[0][0]             \n",
      "__________________________________________________________________________________________________\n",
      "bn4a_branch1 (BatchNormalizatio (None, 7, 7, 1024)   4096        res4a_branch1[0][0]              \n",
      "__________________________________________________________________________________________________\n",
      "add_312 (Add)                   (None, 7, 7, 1024)   0           bn4a_branch2c[0][0]              \n",
      "                                                                 bn4a_branch1[0][0]               \n",
      "__________________________________________________________________________________________________\n",
      "activation_956 (Activation)     (None, 7, 7, 1024)   0           add_312[0][0]                    \n",
      "__________________________________________________________________________________________________\n",
      "res4b_branch2a (Conv2D)         (None, 7, 7, 256)    262400      activation_956[0][0]             \n",
      "__________________________________________________________________________________________________\n",
      "bn4b_branch2a (BatchNormalizati (None, 7, 7, 256)    1024        res4b_branch2a[0][0]             \n",
      "__________________________________________________________________________________________________\n",
      "activation_957 (Activation)     (None, 7, 7, 256)    0           bn4b_branch2a[0][0]              \n",
      "__________________________________________________________________________________________________\n",
      "res4b_branch2b (Conv2D)         (None, 7, 7, 256)    590080      activation_957[0][0]             \n",
      "__________________________________________________________________________________________________\n",
      "bn4b_branch2b (BatchNormalizati (None, 7, 7, 256)    1024        res4b_branch2b[0][0]             \n",
      "__________________________________________________________________________________________________\n",
      "activation_958 (Activation)     (None, 7, 7, 256)    0           bn4b_branch2b[0][0]              \n",
      "__________________________________________________________________________________________________\n",
      "res4b_branch2c (Conv2D)         (None, 7, 7, 1024)   263168      activation_958[0][0]             \n",
      "__________________________________________________________________________________________________\n",
      "bn4b_branch2c (BatchNormalizati (None, 7, 7, 1024)   4096        res4b_branch2c[0][0]             \n",
      "__________________________________________________________________________________________________\n",
      "add_313 (Add)                   (None, 7, 7, 1024)   0           bn4b_branch2c[0][0]              \n",
      "                                                                 activation_956[0][0]             \n",
      "__________________________________________________________________________________________________\n",
      "activation_959 (Activation)     (None, 7, 7, 1024)   0           add_313[0][0]                    \n",
      "__________________________________________________________________________________________________\n",
      "res4c_branch2a (Conv2D)         (None, 7, 7, 256)    262400      activation_959[0][0]             \n",
      "__________________________________________________________________________________________________\n",
      "bn4c_branch2a (BatchNormalizati (None, 7, 7, 256)    1024        res4c_branch2a[0][0]             \n",
      "__________________________________________________________________________________________________\n",
      "activation_960 (Activation)     (None, 7, 7, 256)    0           bn4c_branch2a[0][0]              \n",
      "__________________________________________________________________________________________________\n",
      "res4c_branch2b (Conv2D)         (None, 7, 7, 256)    590080      activation_960[0][0]             \n",
      "__________________________________________________________________________________________________\n",
      "bn4c_branch2b (BatchNormalizati (None, 7, 7, 256)    1024        res4c_branch2b[0][0]             \n",
      "__________________________________________________________________________________________________\n",
      "activation_961 (Activation)     (None, 7, 7, 256)    0           bn4c_branch2b[0][0]              \n",
      "__________________________________________________________________________________________________\n",
      "res4c_branch2c (Conv2D)         (None, 7, 7, 1024)   263168      activation_961[0][0]             \n",
      "__________________________________________________________________________________________________\n",
      "bn4c_branch2c (BatchNormalizati (None, 7, 7, 1024)   4096        res4c_branch2c[0][0]             \n",
      "__________________________________________________________________________________________________\n",
      "add_314 (Add)                   (None, 7, 7, 1024)   0           bn4c_branch2c[0][0]              \n",
      "                                                                 activation_959[0][0]             \n",
      "__________________________________________________________________________________________________\n",
      "activation_962 (Activation)     (None, 7, 7, 1024)   0           add_314[0][0]                    \n",
      "__________________________________________________________________________________________________\n",
      "res4d_branch2a (Conv2D)         (None, 7, 7, 256)    262400      activation_962[0][0]             \n",
      "__________________________________________________________________________________________________\n",
      "bn4d_branch2a (BatchNormalizati (None, 7, 7, 256)    1024        res4d_branch2a[0][0]             \n",
      "__________________________________________________________________________________________________\n",
      "activation_963 (Activation)     (None, 7, 7, 256)    0           bn4d_branch2a[0][0]              \n",
      "__________________________________________________________________________________________________\n",
      "res4d_branch2b (Conv2D)         (None, 7, 7, 256)    590080      activation_963[0][0]             \n",
      "__________________________________________________________________________________________________\n",
      "bn4d_branch2b (BatchNormalizati (None, 7, 7, 256)    1024        res4d_branch2b[0][0]             \n",
      "__________________________________________________________________________________________________\n",
      "activation_964 (Activation)     (None, 7, 7, 256)    0           bn4d_branch2b[0][0]              \n",
      "__________________________________________________________________________________________________\n",
      "res4d_branch2c (Conv2D)         (None, 7, 7, 1024)   263168      activation_964[0][0]             \n",
      "__________________________________________________________________________________________________\n",
      "bn4d_branch2c (BatchNormalizati (None, 7, 7, 1024)   4096        res4d_branch2c[0][0]             \n",
      "__________________________________________________________________________________________________\n",
      "add_315 (Add)                   (None, 7, 7, 1024)   0           bn4d_branch2c[0][0]              \n",
      "                                                                 activation_962[0][0]             \n",
      "__________________________________________________________________________________________________\n",
      "activation_965 (Activation)     (None, 7, 7, 1024)   0           add_315[0][0]                    \n",
      "__________________________________________________________________________________________________\n",
      "res4e_branch2a (Conv2D)         (None, 7, 7, 256)    262400      activation_965[0][0]             \n",
      "__________________________________________________________________________________________________\n",
      "bn4e_branch2a (BatchNormalizati (None, 7, 7, 256)    1024        res4e_branch2a[0][0]             \n",
      "__________________________________________________________________________________________________\n",
      "activation_966 (Activation)     (None, 7, 7, 256)    0           bn4e_branch2a[0][0]              \n",
      "__________________________________________________________________________________________________\n",
      "res4e_branch2b (Conv2D)         (None, 7, 7, 256)    590080      activation_966[0][0]             \n",
      "__________________________________________________________________________________________________\n",
      "bn4e_branch2b (BatchNormalizati (None, 7, 7, 256)    1024        res4e_branch2b[0][0]             \n",
      "__________________________________________________________________________________________________\n",
      "activation_967 (Activation)     (None, 7, 7, 256)    0           bn4e_branch2b[0][0]              \n",
      "__________________________________________________________________________________________________\n",
      "res4e_branch2c (Conv2D)         (None, 7, 7, 1024)   263168      activation_967[0][0]             \n",
      "__________________________________________________________________________________________________\n",
      "bn4e_branch2c (BatchNormalizati (None, 7, 7, 1024)   4096        res4e_branch2c[0][0]             \n",
      "__________________________________________________________________________________________________\n",
      "add_316 (Add)                   (None, 7, 7, 1024)   0           bn4e_branch2c[0][0]              \n",
      "                                                                 activation_965[0][0]             \n",
      "__________________________________________________________________________________________________\n",
      "activation_968 (Activation)     (None, 7, 7, 1024)   0           add_316[0][0]                    \n",
      "__________________________________________________________________________________________________\n",
      "res4f_branch2a (Conv2D)         (None, 7, 7, 256)    262400      activation_968[0][0]             \n",
      "__________________________________________________________________________________________________\n",
      "bn4f_branch2a (BatchNormalizati (None, 7, 7, 256)    1024        res4f_branch2a[0][0]             \n",
      "__________________________________________________________________________________________________\n",
      "activation_969 (Activation)     (None, 7, 7, 256)    0           bn4f_branch2a[0][0]              \n",
      "__________________________________________________________________________________________________\n",
      "res4f_branch2b (Conv2D)         (None, 7, 7, 256)    590080      activation_969[0][0]             \n",
      "__________________________________________________________________________________________________\n",
      "bn4f_branch2b (BatchNormalizati (None, 7, 7, 256)    1024        res4f_branch2b[0][0]             \n",
      "__________________________________________________________________________________________________\n",
      "activation_970 (Activation)     (None, 7, 7, 256)    0           bn4f_branch2b[0][0]              \n",
      "__________________________________________________________________________________________________\n",
      "res4f_branch2c (Conv2D)         (None, 7, 7, 1024)   263168      activation_970[0][0]             \n",
      "__________________________________________________________________________________________________\n",
      "bn4f_branch2c (BatchNormalizati (None, 7, 7, 1024)   4096        res4f_branch2c[0][0]             \n",
      "__________________________________________________________________________________________________\n",
      "add_317 (Add)                   (None, 7, 7, 1024)   0           bn4f_branch2c[0][0]              \n",
      "                                                                 activation_968[0][0]             \n",
      "__________________________________________________________________________________________________\n",
      "activation_971 (Activation)     (None, 7, 7, 1024)   0           add_317[0][0]                    \n",
      "__________________________________________________________________________________________________\n",
      "res5a_branch2a (Conv2D)         (None, 4, 4, 512)    524800      activation_971[0][0]             \n",
      "__________________________________________________________________________________________________\n",
      "bn5a_branch2a (BatchNormalizati (None, 4, 4, 512)    2048        res5a_branch2a[0][0]             \n",
      "__________________________________________________________________________________________________\n",
      "activation_972 (Activation)     (None, 4, 4, 512)    0           bn5a_branch2a[0][0]              \n",
      "__________________________________________________________________________________________________\n",
      "res5a_branch2b (Conv2D)         (None, 4, 4, 512)    2359808     activation_972[0][0]             \n",
      "__________________________________________________________________________________________________\n",
      "bn5a_branch2b (BatchNormalizati (None, 4, 4, 512)    2048        res5a_branch2b[0][0]             \n",
      "__________________________________________________________________________________________________\n",
      "activation_973 (Activation)     (None, 4, 4, 512)    0           bn5a_branch2b[0][0]              \n",
      "__________________________________________________________________________________________________\n",
      "res5a_branch2c (Conv2D)         (None, 4, 4, 2048)   1050624     activation_973[0][0]             \n",
      "__________________________________________________________________________________________________\n",
      "res5a_branch1 (Conv2D)          (None, 4, 4, 2048)   2099200     activation_971[0][0]             \n",
      "__________________________________________________________________________________________________\n",
      "bn5a_branch2c (BatchNormalizati (None, 4, 4, 2048)   8192        res5a_branch2c[0][0]             \n",
      "__________________________________________________________________________________________________\n",
      "bn5a_branch1 (BatchNormalizatio (None, 4, 4, 2048)   8192        res5a_branch1[0][0]              \n",
      "__________________________________________________________________________________________________\n",
      "add_318 (Add)                   (None, 4, 4, 2048)   0           bn5a_branch2c[0][0]              \n",
      "                                                                 bn5a_branch1[0][0]               \n",
      "__________________________________________________________________________________________________\n",
      "activation_974 (Activation)     (None, 4, 4, 2048)   0           add_318[0][0]                    \n",
      "__________________________________________________________________________________________________\n",
      "res5b_branch2a (Conv2D)         (None, 4, 4, 512)    1049088     activation_974[0][0]             \n",
      "__________________________________________________________________________________________________\n",
      "bn5b_branch2a (BatchNormalizati (None, 4, 4, 512)    2048        res5b_branch2a[0][0]             \n",
      "__________________________________________________________________________________________________\n",
      "activation_975 (Activation)     (None, 4, 4, 512)    0           bn5b_branch2a[0][0]              \n",
      "__________________________________________________________________________________________________\n",
      "res5b_branch2b (Conv2D)         (None, 4, 4, 512)    2359808     activation_975[0][0]             \n",
      "__________________________________________________________________________________________________\n",
      "bn5b_branch2b (BatchNormalizati (None, 4, 4, 512)    2048        res5b_branch2b[0][0]             \n",
      "__________________________________________________________________________________________________\n",
      "activation_976 (Activation)     (None, 4, 4, 512)    0           bn5b_branch2b[0][0]              \n",
      "__________________________________________________________________________________________________\n",
      "res5b_branch2c (Conv2D)         (None, 4, 4, 2048)   1050624     activation_976[0][0]             \n",
      "__________________________________________________________________________________________________\n",
      "bn5b_branch2c (BatchNormalizati (None, 4, 4, 2048)   8192        res5b_branch2c[0][0]             \n",
      "__________________________________________________________________________________________________\n",
      "add_319 (Add)                   (None, 4, 4, 2048)   0           bn5b_branch2c[0][0]              \n",
      "                                                                 activation_974[0][0]             \n",
      "__________________________________________________________________________________________________\n",
      "activation_977 (Activation)     (None, 4, 4, 2048)   0           add_319[0][0]                    \n",
      "__________________________________________________________________________________________________\n",
      "res5c_branch2a (Conv2D)         (None, 4, 4, 512)    1049088     activation_977[0][0]             \n",
      "__________________________________________________________________________________________________\n",
      "bn5c_branch2a (BatchNormalizati (None, 4, 4, 512)    2048        res5c_branch2a[0][0]             \n",
      "__________________________________________________________________________________________________\n",
      "activation_978 (Activation)     (None, 4, 4, 512)    0           bn5c_branch2a[0][0]              \n",
      "__________________________________________________________________________________________________\n",
      "res5c_branch2b (Conv2D)         (None, 4, 4, 512)    2359808     activation_978[0][0]             \n",
      "__________________________________________________________________________________________________\n",
      "bn5c_branch2b (BatchNormalizati (None, 4, 4, 512)    2048        res5c_branch2b[0][0]             \n",
      "__________________________________________________________________________________________________\n",
      "activation_979 (Activation)     (None, 4, 4, 512)    0           bn5c_branch2b[0][0]              \n",
      "__________________________________________________________________________________________________\n",
      "res5c_branch2c (Conv2D)         (None, 4, 4, 2048)   1050624     activation_979[0][0]             \n",
      "__________________________________________________________________________________________________\n",
      "bn5c_branch2c (BatchNormalizati (None, 4, 4, 2048)   8192        res5c_branch2c[0][0]             \n",
      "__________________________________________________________________________________________________\n",
      "add_320 (Add)                   (None, 4, 4, 2048)   0           bn5c_branch2c[0][0]              \n",
      "                                                                 activation_977[0][0]             \n",
      "__________________________________________________________________________________________________\n",
      "activation_980 (Activation)     (None, 4, 4, 2048)   0           add_320[0][0]                    \n",
      "__________________________________________________________________________________________________\n",
      "global_average_pooling2d_11 (Gl (None, 2048)         0           activation_980[0][0]             \n",
      "__________________________________________________________________________________________________\n",
      "dense_43 (Dense)                (None, 512)          1049088     global_average_pooling2d_11[0][0]\n",
      "__________________________________________________________________________________________________\n",
      "dropout_32 (Dropout)            (None, 512)          0           dense_43[0][0]                   \n",
      "__________________________________________________________________________________________________\n",
      "dense_44 (Dense)                (None, 8)            4104        dropout_32[0][0]                 \n",
      "==================================================================================================\n",
      "Total params: 24,640,904\n",
      "Trainable params: 0\n",
      "Non-trainable params: 24,640,904\n",
      "__________________________________________________________________________________________________\n"
     ]
    }
   ],
   "source": [
    "for layer in new_model.layers:\n",
    "        layer.trainable = False\n",
    "    \n",
    "new_model.compile(loss='categorical_crossentropy',optimizer=adam,metrics=['accuracy'])\n",
    "new_model.summary()"
   ]
  },
  {
   "cell_type": "code",
   "execution_count": null,
   "metadata": {},
   "outputs": [],
   "source": [
    "hist=new_model.fit(X_train,\n",
    "                  Y_train,\n",
    "                  batch_size=32,\n",
    "                  epochs=10,\n",
    "                  validation_data=(X_val,Y_val),\n",
    "                  shuffle=True)"
   ]
  },
  {
   "cell_type": "code",
   "execution_count": 330,
   "metadata": {},
   "outputs": [],
   "source": [
    "predict=new_model.predict(X_test)"
   ]
  },
  {
   "cell_type": "code",
   "execution_count": 331,
   "metadata": {},
   "outputs": [],
   "source": [
    "predict=np.argmax(predict,axis=1)"
   ]
  },
  {
   "cell_type": "code",
   "execution_count": 332,
   "metadata": {},
   "outputs": [
    {
     "data": {
      "text/plain": [
       "array([3, 3, 3, 3, 3, 3, 3, 3, 3, 3, 1, 3, 3, 3, 3, 1, 3, 1, 3, 3, 3, 3,\n",
       "       3, 3, 3, 3, 3, 3, 3, 3, 3, 3, 3, 3, 3, 3, 3, 3, 3, 3, 3, 3, 3, 3,\n",
       "       3, 1, 3, 3, 3, 3, 3, 1, 3, 3, 3, 3, 3, 3, 3, 3, 3, 3, 3, 3, 3, 3,\n",
       "       1, 3, 3, 3, 3, 3, 3, 3, 3, 3, 3, 3, 3, 1, 3, 3, 3, 3, 3, 3, 3, 3,\n",
       "       3, 3, 3, 3, 3, 3, 3, 3, 3, 3, 3, 3, 3, 3, 3, 3, 3, 3, 3, 3, 3, 3,\n",
       "       3, 3, 3, 3, 3, 3, 3, 3, 1, 1, 3, 3, 3, 3, 3, 3, 3, 3, 3, 3, 3, 3,\n",
       "       3, 3, 3, 3, 3, 3, 3, 3, 3, 3, 3, 3, 3, 3, 3, 3, 3, 3, 3, 3, 3, 3,\n",
       "       3, 3], dtype=int64)"
      ]
     },
     "execution_count": 332,
     "metadata": {},
     "output_type": "execute_result"
    }
   ],
   "source": [
    "predict"
   ]
  },
  {
   "cell_type": "code",
   "execution_count": 44,
   "metadata": {},
   "outputs": [],
   "source": [
    "predict=le.inverse_transform(predict)"
   ]
  },
  {
   "cell_type": "code",
   "execution_count": 45,
   "metadata": {},
   "outputs": [],
   "source": [
    "resnet_model_trans=pd.DataFrame({'Image':df_test_id,'target':predict})\n",
    "resnet_model_trans.to_csv(\"temp.csv\",index=False)"
   ]
  }
 ],
 "metadata": {
  "kernelspec": {
   "display_name": "Python 3",
   "language": "python",
   "name": "python3"
  },
  "language_info": {
   "codemirror_mode": {
    "name": "ipython",
    "version": 3
   },
   "file_extension": ".py",
   "mimetype": "text/x-python",
   "name": "python",
   "nbconvert_exporter": "python",
   "pygments_lexer": "ipython3",
   "version": "3.7.6"
  }
 },
 "nbformat": 4,
 "nbformat_minor": 4
}
