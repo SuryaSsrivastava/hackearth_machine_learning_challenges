{
 "cells": [
  {
   "cell_type": "code",
   "execution_count": 617,
   "metadata": {},
   "outputs": [],
   "source": [
    "import pandas as pd\n",
    "import numpy as np\n",
    "import matplotlib.pyplot as plt\n",
    "import seaborn as sns"
   ]
  },
  {
   "cell_type": "code",
   "execution_count": 618,
   "metadata": {},
   "outputs": [],
   "source": [
    "df_train=pd.read_csv(\"./Train.csv\")"
   ]
  },
  {
   "cell_type": "code",
   "execution_count": 619,
   "metadata": {},
   "outputs": [
    {
     "data": {
      "text/html": [
       "<div>\n",
       "<style scoped>\n",
       "    .dataframe tbody tr th:only-of-type {\n",
       "        vertical-align: middle;\n",
       "    }\n",
       "\n",
       "    .dataframe tbody tr th {\n",
       "        vertical-align: top;\n",
       "    }\n",
       "\n",
       "    .dataframe thead th {\n",
       "        text-align: right;\n",
       "    }\n",
       "</style>\n",
       "<table border=\"1\" class=\"dataframe\">\n",
       "  <thead>\n",
       "    <tr style=\"text-align: right;\">\n",
       "      <th></th>\n",
       "      <th>INCIDENT_ID</th>\n",
       "      <th>DATE</th>\n",
       "      <th>X_1</th>\n",
       "      <th>X_2</th>\n",
       "      <th>X_3</th>\n",
       "      <th>X_4</th>\n",
       "      <th>X_5</th>\n",
       "      <th>X_6</th>\n",
       "      <th>X_7</th>\n",
       "      <th>X_8</th>\n",
       "      <th>X_9</th>\n",
       "      <th>X_10</th>\n",
       "      <th>X_11</th>\n",
       "      <th>X_12</th>\n",
       "      <th>X_13</th>\n",
       "      <th>X_14</th>\n",
       "      <th>X_15</th>\n",
       "      <th>MULTIPLE_OFFENSE</th>\n",
       "    </tr>\n",
       "  </thead>\n",
       "  <tbody>\n",
       "    <tr>\n",
       "      <th>0</th>\n",
       "      <td>CR_102659</td>\n",
       "      <td>04-JUL-04</td>\n",
       "      <td>0</td>\n",
       "      <td>36</td>\n",
       "      <td>34</td>\n",
       "      <td>2</td>\n",
       "      <td>1</td>\n",
       "      <td>5</td>\n",
       "      <td>6</td>\n",
       "      <td>1</td>\n",
       "      <td>6</td>\n",
       "      <td>1</td>\n",
       "      <td>174</td>\n",
       "      <td>1.0</td>\n",
       "      <td>92</td>\n",
       "      <td>29</td>\n",
       "      <td>36</td>\n",
       "      <td>0</td>\n",
       "    </tr>\n",
       "    <tr>\n",
       "      <th>1</th>\n",
       "      <td>CR_189752</td>\n",
       "      <td>18-JUL-17</td>\n",
       "      <td>1</td>\n",
       "      <td>37</td>\n",
       "      <td>37</td>\n",
       "      <td>0</td>\n",
       "      <td>0</td>\n",
       "      <td>11</td>\n",
       "      <td>17</td>\n",
       "      <td>1</td>\n",
       "      <td>6</td>\n",
       "      <td>1</td>\n",
       "      <td>236</td>\n",
       "      <td>1.0</td>\n",
       "      <td>103</td>\n",
       "      <td>142</td>\n",
       "      <td>34</td>\n",
       "      <td>1</td>\n",
       "    </tr>\n",
       "    <tr>\n",
       "      <th>2</th>\n",
       "      <td>CR_184637</td>\n",
       "      <td>15-MAR-17</td>\n",
       "      <td>0</td>\n",
       "      <td>3</td>\n",
       "      <td>2</td>\n",
       "      <td>3</td>\n",
       "      <td>5</td>\n",
       "      <td>1</td>\n",
       "      <td>0</td>\n",
       "      <td>2</td>\n",
       "      <td>3</td>\n",
       "      <td>1</td>\n",
       "      <td>174</td>\n",
       "      <td>1.0</td>\n",
       "      <td>110</td>\n",
       "      <td>93</td>\n",
       "      <td>34</td>\n",
       "      <td>1</td>\n",
       "    </tr>\n",
       "    <tr>\n",
       "      <th>3</th>\n",
       "      <td>CR_139071</td>\n",
       "      <td>13-FEB-09</td>\n",
       "      <td>0</td>\n",
       "      <td>33</td>\n",
       "      <td>32</td>\n",
       "      <td>2</td>\n",
       "      <td>1</td>\n",
       "      <td>7</td>\n",
       "      <td>1</td>\n",
       "      <td>1</td>\n",
       "      <td>6</td>\n",
       "      <td>1</td>\n",
       "      <td>249</td>\n",
       "      <td>1.0</td>\n",
       "      <td>72</td>\n",
       "      <td>29</td>\n",
       "      <td>34</td>\n",
       "      <td>1</td>\n",
       "    </tr>\n",
       "    <tr>\n",
       "      <th>4</th>\n",
       "      <td>CR_109335</td>\n",
       "      <td>13-APR-05</td>\n",
       "      <td>0</td>\n",
       "      <td>33</td>\n",
       "      <td>32</td>\n",
       "      <td>2</td>\n",
       "      <td>1</td>\n",
       "      <td>8</td>\n",
       "      <td>3</td>\n",
       "      <td>0</td>\n",
       "      <td>5</td>\n",
       "      <td>1</td>\n",
       "      <td>174</td>\n",
       "      <td>0.0</td>\n",
       "      <td>112</td>\n",
       "      <td>29</td>\n",
       "      <td>43</td>\n",
       "      <td>1</td>\n",
       "    </tr>\n",
       "  </tbody>\n",
       "</table>\n",
       "</div>"
      ],
      "text/plain": [
       "  INCIDENT_ID       DATE  X_1  X_2  X_3  X_4  X_5  X_6  X_7  X_8  X_9  X_10  \\\n",
       "0   CR_102659  04-JUL-04    0   36   34    2    1    5    6    1    6     1   \n",
       "1   CR_189752  18-JUL-17    1   37   37    0    0   11   17    1    6     1   \n",
       "2   CR_184637  15-MAR-17    0    3    2    3    5    1    0    2    3     1   \n",
       "3   CR_139071  13-FEB-09    0   33   32    2    1    7    1    1    6     1   \n",
       "4   CR_109335  13-APR-05    0   33   32    2    1    8    3    0    5     1   \n",
       "\n",
       "   X_11  X_12  X_13  X_14  X_15  MULTIPLE_OFFENSE  \n",
       "0   174   1.0    92    29    36                 0  \n",
       "1   236   1.0   103   142    34                 1  \n",
       "2   174   1.0   110    93    34                 1  \n",
       "3   249   1.0    72    29    34                 1  \n",
       "4   174   0.0   112    29    43                 1  "
      ]
     },
     "execution_count": 619,
     "metadata": {},
     "output_type": "execute_result"
    }
   ],
   "source": [
    "df_train.head()"
   ]
  },
  {
   "cell_type": "code",
   "execution_count": 620,
   "metadata": {},
   "outputs": [],
   "source": [
    "df_test=pd.read_csv(\"./Test.csv\")"
   ]
  },
  {
   "cell_type": "code",
   "execution_count": 621,
   "metadata": {},
   "outputs": [
    {
     "name": "stdout",
     "output_type": "stream",
     "text": [
      "(23856, 18) (15903, 17)\n"
     ]
    }
   ],
   "source": [
    "print(df_train.shape,df_test.shape)"
   ]
  },
  {
   "cell_type": "code",
   "execution_count": 622,
   "metadata": {},
   "outputs": [
    {
     "name": "stdout",
     "output_type": "stream",
     "text": [
      "<class 'pandas.core.frame.DataFrame'>\n",
      "RangeIndex: 23856 entries, 0 to 23855\n",
      "Data columns (total 18 columns):\n",
      " #   Column            Non-Null Count  Dtype  \n",
      "---  ------            --------------  -----  \n",
      " 0   INCIDENT_ID       23856 non-null  object \n",
      " 1   DATE              23856 non-null  object \n",
      " 2   X_1               23856 non-null  int64  \n",
      " 3   X_2               23856 non-null  int64  \n",
      " 4   X_3               23856 non-null  int64  \n",
      " 5   X_4               23856 non-null  int64  \n",
      " 6   X_5               23856 non-null  int64  \n",
      " 7   X_6               23856 non-null  int64  \n",
      " 8   X_7               23856 non-null  int64  \n",
      " 9   X_8               23856 non-null  int64  \n",
      " 10  X_9               23856 non-null  int64  \n",
      " 11  X_10              23856 non-null  int64  \n",
      " 12  X_11              23856 non-null  int64  \n",
      " 13  X_12              23674 non-null  float64\n",
      " 14  X_13              23856 non-null  int64  \n",
      " 15  X_14              23856 non-null  int64  \n",
      " 16  X_15              23856 non-null  int64  \n",
      " 17  MULTIPLE_OFFENSE  23856 non-null  int64  \n",
      "dtypes: float64(1), int64(15), object(2)\n",
      "memory usage: 3.3+ MB\n"
     ]
    }
   ],
   "source": [
    "df_train.info()"
   ]
  },
  {
   "cell_type": "code",
   "execution_count": 623,
   "metadata": {},
   "outputs": [],
   "source": [
    "Y_train=df_train['MULTIPLE_OFFENSE']"
   ]
  },
  {
   "cell_type": "code",
   "execution_count": 624,
   "metadata": {},
   "outputs": [],
   "source": [
    "columns=['DATE','MULTIPLE_OFFENSE','INCIDENT_ID']\n",
    "df_train.drop(columns=columns,axis=1,inplace=True)"
   ]
  },
  {
   "cell_type": "code",
   "execution_count": 625,
   "metadata": {},
   "outputs": [],
   "source": [
    "incident_id=df_test['INCIDENT_ID'] # used for submission"
   ]
  },
  {
   "cell_type": "code",
   "execution_count": 626,
   "metadata": {},
   "outputs": [],
   "source": [
    "df_test.drop(columns=['DATE','INCIDENT_ID'],axis=1,inplace=True)"
   ]
  },
  {
   "cell_type": "code",
   "execution_count": 627,
   "metadata": {},
   "outputs": [
    {
     "data": {
      "text/html": [
       "<div>\n",
       "<style scoped>\n",
       "    .dataframe tbody tr th:only-of-type {\n",
       "        vertical-align: middle;\n",
       "    }\n",
       "\n",
       "    .dataframe tbody tr th {\n",
       "        vertical-align: top;\n",
       "    }\n",
       "\n",
       "    .dataframe thead th {\n",
       "        text-align: right;\n",
       "    }\n",
       "</style>\n",
       "<table border=\"1\" class=\"dataframe\">\n",
       "  <thead>\n",
       "    <tr style=\"text-align: right;\">\n",
       "      <th></th>\n",
       "      <th>X_1</th>\n",
       "      <th>X_2</th>\n",
       "      <th>X_3</th>\n",
       "      <th>X_4</th>\n",
       "      <th>X_5</th>\n",
       "      <th>X_6</th>\n",
       "      <th>X_7</th>\n",
       "      <th>X_8</th>\n",
       "      <th>X_9</th>\n",
       "      <th>X_10</th>\n",
       "      <th>X_11</th>\n",
       "      <th>X_12</th>\n",
       "      <th>X_13</th>\n",
       "      <th>X_14</th>\n",
       "      <th>X_15</th>\n",
       "    </tr>\n",
       "  </thead>\n",
       "  <tbody>\n",
       "    <tr>\n",
       "      <th>0</th>\n",
       "      <td>0</td>\n",
       "      <td>30</td>\n",
       "      <td>35</td>\n",
       "      <td>7</td>\n",
       "      <td>3</td>\n",
       "      <td>6</td>\n",
       "      <td>4</td>\n",
       "      <td>0</td>\n",
       "      <td>5</td>\n",
       "      <td>1</td>\n",
       "      <td>174</td>\n",
       "      <td>NaN</td>\n",
       "      <td>72</td>\n",
       "      <td>119</td>\n",
       "      <td>23</td>\n",
       "    </tr>\n",
       "    <tr>\n",
       "      <th>1</th>\n",
       "      <td>0</td>\n",
       "      <td>44</td>\n",
       "      <td>44</td>\n",
       "      <td>1</td>\n",
       "      <td>3</td>\n",
       "      <td>7</td>\n",
       "      <td>1</td>\n",
       "      <td>4</td>\n",
       "      <td>6</td>\n",
       "      <td>1</td>\n",
       "      <td>316</td>\n",
       "      <td>0.0</td>\n",
       "      <td>12</td>\n",
       "      <td>29</td>\n",
       "      <td>34</td>\n",
       "    </tr>\n",
       "  </tbody>\n",
       "</table>\n",
       "</div>"
      ],
      "text/plain": [
       "   X_1  X_2  X_3  X_4  X_5  X_6  X_7  X_8  X_9  X_10  X_11  X_12  X_13  X_14  \\\n",
       "0    0   30   35    7    3    6    4    0    5     1   174   NaN    72   119   \n",
       "1    0   44   44    1    3    7    1    4    6     1   316   0.0    12    29   \n",
       "\n",
       "   X_15  \n",
       "0    23  \n",
       "1    34  "
      ]
     },
     "execution_count": 627,
     "metadata": {},
     "output_type": "execute_result"
    }
   ],
   "source": [
    "df_test.head(2)"
   ]
  },
  {
   "cell_type": "code",
   "execution_count": 628,
   "metadata": {},
   "outputs": [
    {
     "data": {
      "text/html": [
       "<div>\n",
       "<style scoped>\n",
       "    .dataframe tbody tr th:only-of-type {\n",
       "        vertical-align: middle;\n",
       "    }\n",
       "\n",
       "    .dataframe tbody tr th {\n",
       "        vertical-align: top;\n",
       "    }\n",
       "\n",
       "    .dataframe thead th {\n",
       "        text-align: right;\n",
       "    }\n",
       "</style>\n",
       "<table border=\"1\" class=\"dataframe\">\n",
       "  <thead>\n",
       "    <tr style=\"text-align: right;\">\n",
       "      <th></th>\n",
       "      <th>X_1</th>\n",
       "      <th>X_2</th>\n",
       "      <th>X_3</th>\n",
       "      <th>X_4</th>\n",
       "      <th>X_5</th>\n",
       "      <th>X_6</th>\n",
       "      <th>X_7</th>\n",
       "      <th>X_8</th>\n",
       "      <th>X_9</th>\n",
       "      <th>X_10</th>\n",
       "      <th>X_11</th>\n",
       "      <th>X_12</th>\n",
       "      <th>X_13</th>\n",
       "      <th>X_14</th>\n",
       "      <th>X_15</th>\n",
       "    </tr>\n",
       "  </thead>\n",
       "  <tbody>\n",
       "    <tr>\n",
       "      <th>0</th>\n",
       "      <td>0</td>\n",
       "      <td>36</td>\n",
       "      <td>34</td>\n",
       "      <td>2</td>\n",
       "      <td>1</td>\n",
       "      <td>5</td>\n",
       "      <td>6</td>\n",
       "      <td>1</td>\n",
       "      <td>6</td>\n",
       "      <td>1</td>\n",
       "      <td>174</td>\n",
       "      <td>1.0</td>\n",
       "      <td>92</td>\n",
       "      <td>29</td>\n",
       "      <td>36</td>\n",
       "    </tr>\n",
       "    <tr>\n",
       "      <th>1</th>\n",
       "      <td>1</td>\n",
       "      <td>37</td>\n",
       "      <td>37</td>\n",
       "      <td>0</td>\n",
       "      <td>0</td>\n",
       "      <td>11</td>\n",
       "      <td>17</td>\n",
       "      <td>1</td>\n",
       "      <td>6</td>\n",
       "      <td>1</td>\n",
       "      <td>236</td>\n",
       "      <td>1.0</td>\n",
       "      <td>103</td>\n",
       "      <td>142</td>\n",
       "      <td>34</td>\n",
       "    </tr>\n",
       "    <tr>\n",
       "      <th>2</th>\n",
       "      <td>0</td>\n",
       "      <td>3</td>\n",
       "      <td>2</td>\n",
       "      <td>3</td>\n",
       "      <td>5</td>\n",
       "      <td>1</td>\n",
       "      <td>0</td>\n",
       "      <td>2</td>\n",
       "      <td>3</td>\n",
       "      <td>1</td>\n",
       "      <td>174</td>\n",
       "      <td>1.0</td>\n",
       "      <td>110</td>\n",
       "      <td>93</td>\n",
       "      <td>34</td>\n",
       "    </tr>\n",
       "    <tr>\n",
       "      <th>3</th>\n",
       "      <td>0</td>\n",
       "      <td>33</td>\n",
       "      <td>32</td>\n",
       "      <td>2</td>\n",
       "      <td>1</td>\n",
       "      <td>7</td>\n",
       "      <td>1</td>\n",
       "      <td>1</td>\n",
       "      <td>6</td>\n",
       "      <td>1</td>\n",
       "      <td>249</td>\n",
       "      <td>1.0</td>\n",
       "      <td>72</td>\n",
       "      <td>29</td>\n",
       "      <td>34</td>\n",
       "    </tr>\n",
       "    <tr>\n",
       "      <th>4</th>\n",
       "      <td>0</td>\n",
       "      <td>33</td>\n",
       "      <td>32</td>\n",
       "      <td>2</td>\n",
       "      <td>1</td>\n",
       "      <td>8</td>\n",
       "      <td>3</td>\n",
       "      <td>0</td>\n",
       "      <td>5</td>\n",
       "      <td>1</td>\n",
       "      <td>174</td>\n",
       "      <td>0.0</td>\n",
       "      <td>112</td>\n",
       "      <td>29</td>\n",
       "      <td>43</td>\n",
       "    </tr>\n",
       "  </tbody>\n",
       "</table>\n",
       "</div>"
      ],
      "text/plain": [
       "   X_1  X_2  X_3  X_4  X_5  X_6  X_7  X_8  X_9  X_10  X_11  X_12  X_13  X_14  \\\n",
       "0    0   36   34    2    1    5    6    1    6     1   174   1.0    92    29   \n",
       "1    1   37   37    0    0   11   17    1    6     1   236   1.0   103   142   \n",
       "2    0    3    2    3    5    1    0    2    3     1   174   1.0   110    93   \n",
       "3    0   33   32    2    1    7    1    1    6     1   249   1.0    72    29   \n",
       "4    0   33   32    2    1    8    3    0    5     1   174   0.0   112    29   \n",
       "\n",
       "   X_15  \n",
       "0    36  \n",
       "1    34  \n",
       "2    34  \n",
       "3    34  \n",
       "4    43  "
      ]
     },
     "execution_count": 628,
     "metadata": {},
     "output_type": "execute_result"
    }
   ],
   "source": [
    "df_train.head()"
   ]
  },
  {
   "cell_type": "code",
   "execution_count": 629,
   "metadata": {},
   "outputs": [],
   "source": [
    "normalized_df=(df_train-df_train.mean())/df_train.std()"
   ]
  },
  {
   "cell_type": "code",
   "execution_count": 630,
   "metadata": {},
   "outputs": [],
   "source": [
    "normalized_df_test=(df_test-df_test.mean())/df_test.std()"
   ]
  },
  {
   "cell_type": "code",
   "execution_count": 631,
   "metadata": {},
   "outputs": [
    {
     "data": {
      "text/html": [
       "<div>\n",
       "<style scoped>\n",
       "    .dataframe tbody tr th:only-of-type {\n",
       "        vertical-align: middle;\n",
       "    }\n",
       "\n",
       "    .dataframe tbody tr th {\n",
       "        vertical-align: top;\n",
       "    }\n",
       "\n",
       "    .dataframe thead th {\n",
       "        text-align: right;\n",
       "    }\n",
       "</style>\n",
       "<table border=\"1\" class=\"dataframe\">\n",
       "  <thead>\n",
       "    <tr style=\"text-align: right;\">\n",
       "      <th></th>\n",
       "      <th>X_1</th>\n",
       "      <th>X_2</th>\n",
       "      <th>X_3</th>\n",
       "      <th>X_4</th>\n",
       "      <th>X_5</th>\n",
       "      <th>X_6</th>\n",
       "      <th>X_7</th>\n",
       "      <th>X_8</th>\n",
       "      <th>X_9</th>\n",
       "      <th>X_10</th>\n",
       "      <th>X_11</th>\n",
       "      <th>X_12</th>\n",
       "      <th>X_13</th>\n",
       "      <th>X_14</th>\n",
       "      <th>X_15</th>\n",
       "    </tr>\n",
       "  </thead>\n",
       "  <tbody>\n",
       "    <tr>\n",
       "      <th>0</th>\n",
       "      <td>-0.331481</td>\n",
       "      <td>0.346538</td>\n",
       "      <td>0.689141</td>\n",
       "      <td>0.912994</td>\n",
       "      <td>0.28091</td>\n",
       "      <td>-0.019072</td>\n",
       "      <td>-0.223789</td>\n",
       "      <td>-0.670665</td>\n",
       "      <td>0.066372</td>\n",
       "      <td>-0.286542</td>\n",
       "      <td>-0.353935</td>\n",
       "      <td>NaN</td>\n",
       "      <td>-0.479795</td>\n",
       "      <td>1.076964</td>\n",
       "      <td>-1.253581</td>\n",
       "    </tr>\n",
       "    <tr>\n",
       "      <th>1</th>\n",
       "      <td>-0.331481</td>\n",
       "      <td>1.265846</td>\n",
       "      <td>1.284086</td>\n",
       "      <td>-1.104095</td>\n",
       "      <td>0.28091</td>\n",
       "      <td>0.205591</td>\n",
       "      <td>-1.002090</td>\n",
       "      <td>2.048068</td>\n",
       "      <td>0.793816</td>\n",
       "      <td>-0.286542</td>\n",
       "      <td>1.171179</td>\n",
       "      <td>-1.109012</td>\n",
       "      <td>-2.662153</td>\n",
       "      <td>-0.994943</td>\n",
       "      <td>0.069444</td>\n",
       "    </tr>\n",
       "  </tbody>\n",
       "</table>\n",
       "</div>"
      ],
      "text/plain": [
       "        X_1       X_2       X_3       X_4      X_5       X_6       X_7  \\\n",
       "0 -0.331481  0.346538  0.689141  0.912994  0.28091 -0.019072 -0.223789   \n",
       "1 -0.331481  1.265846  1.284086 -1.104095  0.28091  0.205591 -1.002090   \n",
       "\n",
       "        X_8       X_9      X_10      X_11      X_12      X_13      X_14  \\\n",
       "0 -0.670665  0.066372 -0.286542 -0.353935       NaN -0.479795  1.076964   \n",
       "1  2.048068  0.793816 -0.286542  1.171179 -1.109012 -2.662153 -0.994943   \n",
       "\n",
       "       X_15  \n",
       "0 -1.253581  \n",
       "1  0.069444  "
      ]
     },
     "execution_count": 631,
     "metadata": {},
     "output_type": "execute_result"
    }
   ],
   "source": [
    "normalized_df_test.head(2)"
   ]
  },
  {
   "cell_type": "code",
   "execution_count": 632,
   "metadata": {},
   "outputs": [
    {
     "data": {
      "text/html": [
       "<div>\n",
       "<style scoped>\n",
       "    .dataframe tbody tr th:only-of-type {\n",
       "        vertical-align: middle;\n",
       "    }\n",
       "\n",
       "    .dataframe tbody tr th {\n",
       "        vertical-align: top;\n",
       "    }\n",
       "\n",
       "    .dataframe thead th {\n",
       "        text-align: right;\n",
       "    }\n",
       "</style>\n",
       "<table border=\"1\" class=\"dataframe\">\n",
       "  <thead>\n",
       "    <tr style=\"text-align: right;\">\n",
       "      <th></th>\n",
       "      <th>X_1</th>\n",
       "      <th>X_2</th>\n",
       "      <th>X_3</th>\n",
       "      <th>X_4</th>\n",
       "      <th>X_5</th>\n",
       "      <th>X_6</th>\n",
       "      <th>X_7</th>\n",
       "      <th>X_8</th>\n",
       "      <th>X_9</th>\n",
       "      <th>X_10</th>\n",
       "      <th>X_11</th>\n",
       "      <th>X_12</th>\n",
       "      <th>X_13</th>\n",
       "      <th>X_14</th>\n",
       "      <th>X_15</th>\n",
       "    </tr>\n",
       "  </thead>\n",
       "  <tbody>\n",
       "    <tr>\n",
       "      <th>0</th>\n",
       "      <td>-0.336018</td>\n",
       "      <td>0.735474</td>\n",
       "      <td>0.618599</td>\n",
       "      <td>-0.773174</td>\n",
       "      <td>-0.741487</td>\n",
       "      <td>-0.258103</td>\n",
       "      <td>0.289416</td>\n",
       "      <td>0.018952</td>\n",
       "      <td>0.789559</td>\n",
       "      <td>-0.21871</td>\n",
       "      <td>-0.354223</td>\n",
       "      <td>0.022210</td>\n",
       "      <td>0.245047</td>\n",
       "      <td>-1.008707</td>\n",
       "      <td>0.302290</td>\n",
       "    </tr>\n",
       "    <tr>\n",
       "      <th>1</th>\n",
       "      <td>0.358553</td>\n",
       "      <td>0.801090</td>\n",
       "      <td>0.816814</td>\n",
       "      <td>-1.452367</td>\n",
       "      <td>-1.250886</td>\n",
       "      <td>1.083651</td>\n",
       "      <td>3.123057</td>\n",
       "      <td>0.018952</td>\n",
       "      <td>0.789559</td>\n",
       "      <td>-0.21871</td>\n",
       "      <td>0.312205</td>\n",
       "      <td>0.022210</td>\n",
       "      <td>0.643638</td>\n",
       "      <td>1.601155</td>\n",
       "      <td>0.063821</td>\n",
       "    </tr>\n",
       "    <tr>\n",
       "      <th>2</th>\n",
       "      <td>-0.336018</td>\n",
       "      <td>-1.429847</td>\n",
       "      <td>-1.495693</td>\n",
       "      <td>-0.433578</td>\n",
       "      <td>1.296112</td>\n",
       "      <td>-1.152606</td>\n",
       "      <td>-1.256207</td>\n",
       "      <td>0.707115</td>\n",
       "      <td>-1.412075</td>\n",
       "      <td>-0.21871</td>\n",
       "      <td>-0.354223</td>\n",
       "      <td>0.022210</td>\n",
       "      <td>0.897286</td>\n",
       "      <td>0.469445</td>\n",
       "      <td>0.063821</td>\n",
       "    </tr>\n",
       "    <tr>\n",
       "      <th>3</th>\n",
       "      <td>-0.336018</td>\n",
       "      <td>0.538627</td>\n",
       "      <td>0.486456</td>\n",
       "      <td>-0.773174</td>\n",
       "      <td>-0.741487</td>\n",
       "      <td>0.189148</td>\n",
       "      <td>-0.998603</td>\n",
       "      <td>0.018952</td>\n",
       "      <td>0.789559</td>\n",
       "      <td>-0.21871</td>\n",
       "      <td>0.451940</td>\n",
       "      <td>0.022210</td>\n",
       "      <td>-0.479664</td>\n",
       "      <td>-1.008707</td>\n",
       "      <td>0.063821</td>\n",
       "    </tr>\n",
       "    <tr>\n",
       "      <th>4</th>\n",
       "      <td>-0.336018</td>\n",
       "      <td>0.538627</td>\n",
       "      <td>0.486456</td>\n",
       "      <td>-0.773174</td>\n",
       "      <td>-0.741487</td>\n",
       "      <td>0.412774</td>\n",
       "      <td>-0.483396</td>\n",
       "      <td>-0.669211</td>\n",
       "      <td>0.055681</td>\n",
       "      <td>-0.21871</td>\n",
       "      <td>-0.354223</td>\n",
       "      <td>-0.834156</td>\n",
       "      <td>0.969758</td>\n",
       "      <td>-1.008707</td>\n",
       "      <td>1.136931</td>\n",
       "    </tr>\n",
       "  </tbody>\n",
       "</table>\n",
       "</div>"
      ],
      "text/plain": [
       "        X_1       X_2       X_3       X_4       X_5       X_6       X_7  \\\n",
       "0 -0.336018  0.735474  0.618599 -0.773174 -0.741487 -0.258103  0.289416   \n",
       "1  0.358553  0.801090  0.816814 -1.452367 -1.250886  1.083651  3.123057   \n",
       "2 -0.336018 -1.429847 -1.495693 -0.433578  1.296112 -1.152606 -1.256207   \n",
       "3 -0.336018  0.538627  0.486456 -0.773174 -0.741487  0.189148 -0.998603   \n",
       "4 -0.336018  0.538627  0.486456 -0.773174 -0.741487  0.412774 -0.483396   \n",
       "\n",
       "        X_8       X_9     X_10      X_11      X_12      X_13      X_14  \\\n",
       "0  0.018952  0.789559 -0.21871 -0.354223  0.022210  0.245047 -1.008707   \n",
       "1  0.018952  0.789559 -0.21871  0.312205  0.022210  0.643638  1.601155   \n",
       "2  0.707115 -1.412075 -0.21871 -0.354223  0.022210  0.897286  0.469445   \n",
       "3  0.018952  0.789559 -0.21871  0.451940  0.022210 -0.479664 -1.008707   \n",
       "4 -0.669211  0.055681 -0.21871 -0.354223 -0.834156  0.969758 -1.008707   \n",
       "\n",
       "       X_15  \n",
       "0  0.302290  \n",
       "1  0.063821  \n",
       "2  0.063821  \n",
       "3  0.063821  \n",
       "4  1.136931  "
      ]
     },
     "execution_count": 632,
     "metadata": {},
     "output_type": "execute_result"
    }
   ],
   "source": [
    "normalized_df.head()"
   ]
  },
  {
   "cell_type": "code",
   "execution_count": 633,
   "metadata": {},
   "outputs": [],
   "source": [
    "normalized_df=normalized_df.fillna(normalized_df.mean())\n",
    "normalized_df_test=normalized_df_test.fillna(normalized_df_test.mean())"
   ]
  },
  {
   "cell_type": "code",
   "execution_count": 634,
   "metadata": {},
   "outputs": [
    {
     "name": "stdout",
     "output_type": "stream",
     "text": [
      "<class 'pandas.core.frame.DataFrame'>\n",
      "RangeIndex: 23856 entries, 0 to 23855\n",
      "Data columns (total 15 columns):\n",
      " #   Column  Non-Null Count  Dtype  \n",
      "---  ------  --------------  -----  \n",
      " 0   X_1     23856 non-null  float64\n",
      " 1   X_2     23856 non-null  float64\n",
      " 2   X_3     23856 non-null  float64\n",
      " 3   X_4     23856 non-null  float64\n",
      " 4   X_5     23856 non-null  float64\n",
      " 5   X_6     23856 non-null  float64\n",
      " 6   X_7     23856 non-null  float64\n",
      " 7   X_8     23856 non-null  float64\n",
      " 8   X_9     23856 non-null  float64\n",
      " 9   X_10    23856 non-null  float64\n",
      " 10  X_11    23856 non-null  float64\n",
      " 11  X_12    23856 non-null  float64\n",
      " 12  X_13    23856 non-null  float64\n",
      " 13  X_14    23856 non-null  float64\n",
      " 14  X_15    23856 non-null  float64\n",
      "dtypes: float64(15)\n",
      "memory usage: 2.7 MB\n"
     ]
    }
   ],
   "source": [
    "normalized_df.info()"
   ]
  },
  {
   "cell_type": "code",
   "execution_count": 635,
   "metadata": {},
   "outputs": [
    {
     "name": "stdout",
     "output_type": "stream",
     "text": [
      "<class 'pandas.core.frame.DataFrame'>\n",
      "RangeIndex: 15903 entries, 0 to 15902\n",
      "Data columns (total 15 columns):\n",
      " #   Column  Non-Null Count  Dtype  \n",
      "---  ------  --------------  -----  \n",
      " 0   X_1     15903 non-null  float64\n",
      " 1   X_2     15903 non-null  float64\n",
      " 2   X_3     15903 non-null  float64\n",
      " 3   X_4     15903 non-null  float64\n",
      " 4   X_5     15903 non-null  float64\n",
      " 5   X_6     15903 non-null  float64\n",
      " 6   X_7     15903 non-null  float64\n",
      " 7   X_8     15903 non-null  float64\n",
      " 8   X_9     15903 non-null  float64\n",
      " 9   X_10    15903 non-null  float64\n",
      " 10  X_11    15903 non-null  float64\n",
      " 11  X_12    15903 non-null  float64\n",
      " 12  X_13    15903 non-null  float64\n",
      " 13  X_14    15903 non-null  float64\n",
      " 14  X_15    15903 non-null  float64\n",
      "dtypes: float64(15)\n",
      "memory usage: 1.8 MB\n"
     ]
    }
   ],
   "source": [
    "normalized_df_test.info()"
   ]
  },
  {
   "cell_type": "code",
   "execution_count": 636,
   "metadata": {},
   "outputs": [],
   "source": [
    "X_train=normalized_df.values\n",
    "Y_train=Y_train\n",
    "X_test=normalized_df_test.values"
   ]
  },
  {
   "cell_type": "code",
   "execution_count": 637,
   "metadata": {},
   "outputs": [
    {
     "data": {
      "text/plain": [
       "(23856, 15)"
      ]
     },
     "execution_count": 637,
     "metadata": {},
     "output_type": "execute_result"
    }
   ],
   "source": [
    "X_train.shape"
   ]
  },
  {
   "cell_type": "markdown",
   "metadata": {},
   "source": [
    "### Neural Network"
   ]
  },
  {
   "cell_type": "code",
   "execution_count": 638,
   "metadata": {},
   "outputs": [],
   "source": [
    "from keras.layers import Dense,Dropout\n",
    "from keras.models import Sequential\n",
    "from keras.optimizers import Adam\n",
    "from sklearn.model_selection import train_test_split"
   ]
  },
  {
   "cell_type": "code",
   "execution_count": 639,
   "metadata": {},
   "outputs": [
    {
     "name": "stdout",
     "output_type": "stream",
     "text": [
      "Model: \"sequential_49\"\n",
      "_________________________________________________________________\n",
      "Layer (type)                 Output Shape              Param #   \n",
      "=================================================================\n",
      "dense_193 (Dense)            (None, 16)                256       \n",
      "_________________________________________________________________\n",
      "dropout_119 (Dropout)        (None, 16)                0         \n",
      "_________________________________________________________________\n",
      "dense_194 (Dense)            (None, 16)                272       \n",
      "_________________________________________________________________\n",
      "dropout_120 (Dropout)        (None, 16)                0         \n",
      "_________________________________________________________________\n",
      "dense_195 (Dense)            (None, 16)                272       \n",
      "_________________________________________________________________\n",
      "dropout_121 (Dropout)        (None, 16)                0         \n",
      "_________________________________________________________________\n",
      "dense_196 (Dense)            (None, 1)                 17        \n",
      "=================================================================\n",
      "Total params: 817\n",
      "Trainable params: 817\n",
      "Non-trainable params: 0\n",
      "_________________________________________________________________\n"
     ]
    }
   ],
   "source": [
    "model=Sequential()\n",
    "model.add(Dense(16,input_shape=(15,),activation='relu'))\n",
    "model.add(Dropout(0.2))\n",
    "model.add(Dense(16,activation='relu'))\n",
    "model.add(Dropout(0.2))\n",
    "model.add(Dense(16,activation='relu'))\n",
    "model.add(Dropout(0.3))\n",
    "model.add(Dense(1,activation='sigmoid'))\n",
    "model.summary()"
   ]
  },
  {
   "cell_type": "code",
   "execution_count": 640,
   "metadata": {},
   "outputs": [],
   "source": [
    "adam=Adam(lr=0.0003)"
   ]
  },
  {
   "cell_type": "code",
   "execution_count": 641,
   "metadata": {},
   "outputs": [],
   "source": [
    "model.compile(optimizer=adam,loss='binary_crossentropy',metrics=['accuracy'])"
   ]
  },
  {
   "cell_type": "code",
   "execution_count": 642,
   "metadata": {},
   "outputs": [],
   "source": [
    "X_train,X_val,Y_train,Y_val=train_test_split(X_train,Y_train,test_size=0.2)"
   ]
  },
  {
   "cell_type": "code",
   "execution_count": 643,
   "metadata": {},
   "outputs": [
    {
     "name": "stdout",
     "output_type": "stream",
     "text": [
      "Train on 19084 samples, validate on 4772 samples\n",
      "Epoch 1/10\n",
      "19084/19084 [==============================] - 1s 41us/step - loss: 0.5902 - accuracy: 0.6936 - val_loss: 0.3007 - val_accuracy: 0.9581\n",
      "Epoch 2/10\n",
      "19084/19084 [==============================] - 0s 25us/step - loss: 0.2566 - accuracy: 0.9502 - val_loss: 0.1580 - val_accuracy: 0.9581\n",
      "Epoch 3/10\n",
      "19084/19084 [==============================] - 0s 22us/step - loss: 0.2040 - accuracy: 0.9536 - val_loss: 0.1433 - val_accuracy: 0.9581\n",
      "Epoch 4/10\n",
      "19084/19084 [==============================] - 0s 23us/step - loss: 0.1867 - accuracy: 0.9539 - val_loss: 0.1345 - val_accuracy: 0.9581\n",
      "Epoch 5/10\n",
      "19084/19084 [==============================] - 0s 23us/step - loss: 0.1725 - accuracy: 0.9546 - val_loss: 0.1275 - val_accuracy: 0.9581\n",
      "Epoch 6/10\n",
      "19084/19084 [==============================] - 0s 24us/step - loss: 0.1614 - accuracy: 0.9546 - val_loss: 0.1216 - val_accuracy: 0.9581\n",
      "Epoch 7/10\n",
      "19084/19084 [==============================] - 0s 23us/step - loss: 0.1566 - accuracy: 0.9550 - val_loss: 0.1166 - val_accuracy: 0.9577\n",
      "Epoch 8/10\n",
      "19084/19084 [==============================] - 0s 22us/step - loss: 0.1481 - accuracy: 0.9543 - val_loss: 0.1119 - val_accuracy: 0.9577\n",
      "Epoch 9/10\n",
      "19084/19084 [==============================] - 0s 25us/step - loss: 0.1419 - accuracy: 0.9547 - val_loss: 0.1081 - val_accuracy: 0.9577\n",
      "Epoch 10/10\n",
      "19084/19084 [==============================] - 0s 26us/step - loss: 0.1359 - accuracy: 0.9547 - val_loss: 0.1048 - val_accuracy: 0.9579\n"
     ]
    }
   ],
   "source": [
    "hist=model.fit(\n",
    "    X_train,\n",
    "    Y_train,\n",
    "    validation_data=(X_val,Y_val),\n",
    "    epochs=10,\n",
    "    batch_size=64,\n",
    "    shuffle=True\n",
    ")"
   ]
  },
  {
   "cell_type": "code",
   "execution_count": 613,
   "metadata": {},
   "outputs": [
    {
     "data": {
      "text/plain": [
       "<matplotlib.legend.Legend at 0x1f3d6aa2f08>"
      ]
     },
     "execution_count": 613,
     "metadata": {},
     "output_type": "execute_result"
    },
    {
     "data": {
      "image/png": "[encoded data removed]",
      "text/plain": [
       "<Figure size 576x504 with 1 Axes>"
      ]
     },
     "metadata": {},
     "output_type": "display_data"
    }
   ],
   "source": [
    "plt.plot(hist.history['loss'],'g',label='loss')\n",
    "plt.plot(hist.history['val_loss'],'b',label='validation loss')\n",
    "\n",
    "plt.plot(hist.history['accuracy'],'r',label='accuracy')\n",
    "plt.plot(hist.history['val_accuracy'],'b',label='validation accuracy')\n",
    "plt.legend()"
   ]
  },
  {
   "cell_type": "code",
   "execution_count": 614,
   "metadata": {},
   "outputs": [],
   "source": [
    "prediction=model.predict_classes(X_test)\n",
    "prediction=prediction.reshape((-1,))"
   ]
  },
  {
   "cell_type": "code",
   "execution_count": 615,
   "metadata": {},
   "outputs": [],
   "source": [
    "temp=pd.DataFrame({\"INCIDENT_ID\":incident_id,'MULTIPLE_OFFENSE':prediction})\n",
    "temp.to_csv(\"neural_network.csv\",index=False)"
   ]
  },
  {
   "cell_type": "code",
   "execution_count": null,
   "metadata": {},
   "outputs": [],
   "source": []
  }
 ],
 "metadata": {
  "kernelspec": {
   "display_name": "Python 3",
   "language": "python",
   "name": "python3"
  },
  "language_info": {
   "codemirror_mode": {
    "name": "ipython",
    "version": 3
   },
   "file_extension": ".py",
   "mimetype": "text/x-python",
   "name": "python",
   "nbconvert_exporter": "python",
   "pygments_lexer": "ipython3",
   "version": "3.7.6"
  }
 },
 "nbformat": 4,
 "nbformat_minor": 4
}
